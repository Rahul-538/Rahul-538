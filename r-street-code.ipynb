{
 "cells": [
  {
   "cell_type": "code",
   "execution_count": 1,
   "id": "2ba8664d",
   "metadata": {
    "_cell_guid": "b1076dfc-b9ad-4769-8c92-a6c4dae69d19",
    "_uuid": "8f2839f25d086af736a60e9eeb907d3b93b6e0e5",
    "execution": {
     "iopub.execute_input": "2022-11-24T09:52:03.007181Z",
     "iopub.status.busy": "2022-11-24T09:52:03.006502Z",
     "iopub.status.idle": "2022-11-24T09:52:03.020633Z",
     "shell.execute_reply": "2022-11-24T09:52:03.021199Z",
     "shell.execute_reply.started": "2021-12-14T13:16:12.113664Z"
    },
    "papermill": {
     "duration": 0.060675,
     "end_time": "2022-11-24T09:52:03.021525",
     "exception": false,
     "start_time": "2022-11-24T09:52:02.960850",
     "status": "completed"
    },
    "tags": []
   },
   "outputs": [
    {
     "name": "stdout",
     "output_type": "stream",
     "text": [
      "/kaggle/input/r-street-quant-challenge/sample_submission.csv\n",
      "/kaggle/input/r-street-quant-challenge/train_target.csv\n",
      "/kaggle/input/r-street-quant-challenge/train_data.csv\n",
      "/kaggle/input/r-street-quant-challenge/test_data.csv\n"
     ]
    }
   ],
   "source": [
    "# This Python 3 environment comes with many helpful analytics libraries installed\n",
    "# It is defined by the kaggle/python Docker image: https://github.com/kaggle/docker-python\n",
    "# For example, here's several helpful packages to load\n",
    "\n",
    "import numpy as np # linear algebra\n",
    "import pandas as pd # data processing, CSV file I/O (e.g. pd.read_csv)\n",
    "\n",
    "# Input data files are available in the read-only \"../input/\" directory\n",
    "# For example, running this (by clicking run or pressing Shift+Enter) will list all files under the input directory\n",
    "\n",
    "import os\n",
    "for dirname, _, filenames in os.walk('/kaggle/input'):\n",
    "    for filename in filenames:\n",
    "        print(os.path.join(dirname, filename))\n",
    "\n",
    "# You can write up to 20GB to the current directory (/kaggle/working/) that gets preserved as output when you create a version using \"Save & Run All\" \n",
    "# You can also write temporary files to /kaggle/temp/, but they won't be saved outside of the current session"
   ]
  },
  {
   "cell_type": "code",
   "execution_count": 2,
   "id": "4562d8f2",
   "metadata": {
    "execution": {
     "iopub.execute_input": "2022-11-24T09:52:03.097151Z",
     "iopub.status.busy": "2022-11-24T09:52:03.096493Z",
     "iopub.status.idle": "2022-11-24T09:52:03.100461Z",
     "shell.execute_reply": "2022-11-24T09:52:03.100906Z",
     "shell.execute_reply.started": "2021-12-14T13:16:13.163426Z"
    },
    "papermill": {
     "duration": 0.04269,
     "end_time": "2022-11-24T09:52:03.101110",
     "exception": false,
     "start_time": "2022-11-24T09:52:03.058420",
     "status": "completed"
    },
    "tags": []
   },
   "outputs": [],
   "source": [
    "import matplotlib.pyplot as plt"
   ]
  },
  {
   "cell_type": "code",
   "execution_count": 3,
   "id": "05dcad6d",
   "metadata": {
    "execution": {
     "iopub.execute_input": "2022-11-24T09:52:03.174613Z",
     "iopub.status.busy": "2022-11-24T09:52:03.173949Z",
     "iopub.status.idle": "2022-11-24T09:52:03.448225Z",
     "shell.execute_reply": "2022-11-24T09:52:03.448988Z",
     "shell.execute_reply.started": "2021-12-14T13:16:14.304607Z"
    },
    "papermill": {
     "duration": 0.313497,
     "end_time": "2022-11-24T09:52:03.449259",
     "exception": false,
     "start_time": "2022-11-24T09:52:03.135762",
     "status": "completed"
    },
    "tags": []
   },
   "outputs": [],
   "source": [
    "train = pd.read_csv('../input/r-street-quant-challenge/train_data.csv')\n",
    "target = pd.read_csv('../input/r-street-quant-challenge/train_target.csv')\n",
    "test = pd.read_csv('../input/r-street-quant-challenge/test_data.csv')"
   ]
  },
  {
   "cell_type": "code",
   "execution_count": 4,
   "id": "1528ef66",
   "metadata": {
    "execution": {
     "iopub.execute_input": "2022-11-24T09:52:03.537688Z",
     "iopub.status.busy": "2022-11-24T09:52:03.536637Z",
     "iopub.status.idle": "2022-11-24T09:52:03.540404Z",
     "shell.execute_reply": "2022-11-24T09:52:03.540935Z",
     "shell.execute_reply.started": "2021-12-14T13:16:16.471683Z"
    },
    "papermill": {
     "duration": 0.045106,
     "end_time": "2022-11-24T09:52:03.541159",
     "exception": false,
     "start_time": "2022-11-24T09:52:03.496053",
     "status": "completed"
    },
    "tags": []
   },
   "outputs": [],
   "source": [
    "# train['target'] = target['target']"
   ]
  },
  {
   "cell_type": "code",
   "execution_count": 5,
   "id": "68af0008",
   "metadata": {
    "execution": {
     "iopub.execute_input": "2022-11-24T09:52:03.619891Z",
     "iopub.status.busy": "2022-11-24T09:52:03.618805Z",
     "iopub.status.idle": "2022-11-24T09:52:04.929772Z",
     "shell.execute_reply": "2022-11-24T09:52:04.928971Z",
     "shell.execute_reply.started": "2021-12-14T13:16:19.100913Z"
    },
    "papermill": {
     "duration": 1.351584,
     "end_time": "2022-11-24T09:52:04.929939",
     "exception": false,
     "start_time": "2022-11-24T09:52:03.578355",
     "status": "completed"
    },
    "tags": []
   },
   "outputs": [],
   "source": [
    "train['date'] = pd.to_datetime(train['date'])\n",
    "# train['year'] = train['date'].apply(lambda x: x.year)\n",
    "# train['month'] = train['date'].apply(lambda x: x.month)\n",
    "# train['hour'] = train['date'].apply(lambda x: x.time().hour) #\n",
    "# train['minute'] = train['date'].apply(lambda x: x.time().minute)\n",
    "train['hour+min'] = ((train['date'].apply(lambda x: x.time().hour))*60 + train['date'].apply(lambda x: x.time().minute))/1000\n",
    "# train['weekday'] = train['date'].apply(lambda x: x.weekday())\n",
    "\n",
    "test['date'] = pd.to_datetime(test['date'])\n",
    "# test['year'] = test['date'].apply(lambda x: x.year)\n",
    "# test['month'] = test['date'].apply(lambda x: x.month)\n",
    "# test['hour'] = test['date'].apply(lambda x: x.time().hour)\n",
    "# test['minute'] = test['date'].apply(lambda x: x.time().minute)\n",
    "test['hour+min'] = ((test['date'].apply(lambda x: x.time().hour))*60 + test['date'].apply(lambda x: x.time().minute))/1000\n",
    "# test['weekday'] = test['date'].apply(lambda x: x.weekday())"
   ]
  },
  {
   "cell_type": "code",
   "execution_count": 6,
   "id": "ade830b2",
   "metadata": {
    "execution": {
     "iopub.execute_input": "2022-11-24T09:52:05.007946Z",
     "iopub.status.busy": "2022-11-24T09:52:05.006761Z",
     "iopub.status.idle": "2022-11-24T09:52:05.050683Z",
     "shell.execute_reply": "2022-11-24T09:52:05.051197Z",
     "shell.execute_reply.started": "2021-12-14T13:16:21.505353Z"
    },
    "papermill": {
     "duration": 0.084942,
     "end_time": "2022-11-24T09:52:05.051398",
     "exception": false,
     "start_time": "2022-11-24T09:52:04.966456",
     "status": "completed"
    },
    "tags": []
   },
   "outputs": [],
   "source": [
    "train['close_higher_than_open'] = train['open'] < train['close']\n",
    "train['is RSI 7 greater than 21'] = train['RSI_7'] > train['RSI_21']\n",
    "train['is SMA 7 greater than 21'] = train['SMA_7'] > train['SMA_21']\n",
    "\n",
    "train['percent_jump_from_low_to_high'] = (train['high']-train['low'])/train['low']\n",
    "train['close_higher_than_open'] = train['close_higher_than_open'].apply(lambda x: 1 if x==True else 0)\n",
    "train['is RSI 7 greater than 21'] = train['is RSI 7 greater than 21'].apply(lambda x: 1 if x==True else 0)\n",
    "train['is SMA 7 greater than 21'] = train['is SMA 7 greater than 21'].apply(lambda x: 1 if x==True else 0)"
   ]
  },
  {
   "cell_type": "code",
   "execution_count": 7,
   "id": "67428c8b",
   "metadata": {
    "execution": {
     "iopub.execute_input": "2022-11-24T09:52:05.124768Z",
     "iopub.status.busy": "2022-11-24T09:52:05.123785Z",
     "iopub.status.idle": "2022-11-24T09:52:05.148280Z",
     "shell.execute_reply": "2022-11-24T09:52:05.148819Z",
     "shell.execute_reply.started": "2021-12-14T13:16:22.33149Z"
    },
    "papermill": {
     "duration": 0.063082,
     "end_time": "2022-11-24T09:52:05.149006",
     "exception": false,
     "start_time": "2022-11-24T09:52:05.085924",
     "status": "completed"
    },
    "tags": []
   },
   "outputs": [],
   "source": [
    "test['close_higher_than_open'] = test['open'] < test['close']\n",
    "test['is RSI 7 greater than 21'] = test['RSI_7'] > test['RSI_21']\n",
    "test['is SMA 7 greater than 21'] = test['SMA_7'] > test['SMA_21']\n",
    "\n",
    "test['percent_jump_from_low_to_high'] = (test['high']-test['low'])/test['low']\n",
    "test['close_higher_than_open'] = test['close_higher_than_open'].apply(lambda x: 1 if x==True else 0)\n",
    "test['is RSI 7 greater than 21'] = test['is RSI 7 greater than 21'].apply(lambda x: 1 if x==True else 0)\n",
    "test['is SMA 7 greater than 21'] = test['is SMA 7 greater than 21'].apply(lambda x: 1 if x==True else 0)"
   ]
  },
  {
   "cell_type": "code",
   "execution_count": 8,
   "id": "e8ae8ee6",
   "metadata": {
    "execution": {
     "iopub.execute_input": "2022-11-24T09:52:05.222776Z",
     "iopub.status.busy": "2022-11-24T09:52:05.221740Z",
     "iopub.status.idle": "2022-11-24T09:52:05.597687Z",
     "shell.execute_reply": "2022-11-24T09:52:05.597112Z",
     "shell.execute_reply.started": "2021-12-14T13:16:26.574391Z"
    },
    "papermill": {
     "duration": 0.414211,
     "end_time": "2022-11-24T09:52:05.597850",
     "exception": false,
     "start_time": "2022-11-24T09:52:05.183639",
     "status": "completed"
    },
    "tags": []
   },
   "outputs": [],
   "source": [
    "overbought = [0 for i in range(train.shape[0])]\n",
    "oversold = [0 for i in range(train.shape[0])]\n",
    "for i in range(train.shape[0]):\n",
    "    s = 0\n",
    "    if train['RSI_7'][i]>70:\n",
    "        s += 1\n",
    "#     if train['RSI_14'][i]>70:\n",
    "#         s += 1\n",
    "#     if train['RSI_21'][i]>70:\n",
    "#         s += 1\n",
    "    overbought[i] = s\n",
    "\n",
    "for i in range(train.shape[0]):\n",
    "    s = 0\n",
    "    if train['RSI_7'][i]<30:\n",
    "        s += 1\n",
    "#     if train['RSI_14'][i]<30:\n",
    "#         s += 1\n",
    "#     if train['RSI_21'][i]<30:\n",
    "#         s += 1\n",
    "    oversold[i] = s\n",
    "    \n",
    "train['Overbought'] = overbought\n",
    "train['Oversold'] = oversold"
   ]
  },
  {
   "cell_type": "code",
   "execution_count": 9,
   "id": "6d561b46",
   "metadata": {
    "execution": {
     "iopub.execute_input": "2022-11-24T09:52:05.671023Z",
     "iopub.status.busy": "2022-11-24T09:52:05.670044Z",
     "iopub.status.idle": "2022-11-24T09:52:05.829418Z",
     "shell.execute_reply": "2022-11-24T09:52:05.830045Z",
     "shell.execute_reply.started": "2021-12-14T13:16:31.215294Z"
    },
    "papermill": {
     "duration": 0.197932,
     "end_time": "2022-11-24T09:52:05.830272",
     "exception": false,
     "start_time": "2022-11-24T09:52:05.632340",
     "status": "completed"
    },
    "tags": []
   },
   "outputs": [],
   "source": [
    "overbought = [0 for i in range(test.shape[0])]\n",
    "oversold = [0 for i in range(test.shape[0])]\n",
    "for i in range(test.shape[0]):\n",
    "    s = 0\n",
    "    if test['RSI_7'][i]>70:\n",
    "        s += 1\n",
    "#     if test['RSI_14'][i]>70:\n",
    "#         s += 1\n",
    "#     if test['RSI_21'][i]>70:\n",
    "#         s += 1\n",
    "    overbought[i] = s\n",
    "\n",
    "for i in range(test.shape[0]):\n",
    "    s = 0\n",
    "    if test['RSI_7'][i]<30:\n",
    "        s += 1\n",
    "#     if test['RSI_14'][i]<30:\n",
    "#         s += 1\n",
    "#     if test['RSI_21'][i]<30:\n",
    "#         s += 1\n",
    "    oversold[i] = s\n",
    "    \n",
    "test['Overbought'] = overbought\n",
    "test['Oversold'] = oversold"
   ]
  },
  {
   "cell_type": "code",
   "execution_count": 10,
   "id": "6b630404",
   "metadata": {
    "execution": {
     "iopub.execute_input": "2022-11-24T09:52:05.908379Z",
     "iopub.status.busy": "2022-11-24T09:52:05.907665Z",
     "iopub.status.idle": "2022-11-24T09:52:05.910369Z",
     "shell.execute_reply": "2022-11-24T09:52:05.910924Z",
     "shell.execute_reply.started": "2021-12-14T13:16:34.413916Z"
    },
    "papermill": {
     "duration": 0.042835,
     "end_time": "2022-11-24T09:52:05.911151",
     "exception": false,
     "start_time": "2022-11-24T09:52:05.868316",
     "status": "completed"
    },
    "tags": []
   },
   "outputs": [],
   "source": [
    "# rsis = ['RSI_7', 'RSI_14', 'RSI_21']\n",
    "# for rsi in rsis:\n",
    "#     train[rsi] = train[rsi].apply(lambda x: (x-30)/40)\n",
    "#     test[rsi] = test[rsi].apply(lambda x: (x-30)/40)"
   ]
  },
  {
   "cell_type": "code",
   "execution_count": 11,
   "id": "01f8bd08",
   "metadata": {
    "execution": {
     "iopub.execute_input": "2022-11-24T09:52:05.985762Z",
     "iopub.status.busy": "2022-11-24T09:52:05.985028Z",
     "iopub.status.idle": "2022-11-24T09:52:05.987881Z",
     "shell.execute_reply": "2022-11-24T09:52:05.987351Z",
     "shell.execute_reply.started": "2021-12-14T13:16:34.890892Z"
    },
    "papermill": {
     "duration": 0.042268,
     "end_time": "2022-11-24T09:52:05.988043",
     "exception": false,
     "start_time": "2022-11-24T09:52:05.945775",
     "status": "completed"
    },
    "tags": []
   },
   "outputs": [],
   "source": [
    "# trainv2 = train.append(test)\n",
    "# trainv2"
   ]
  },
  {
   "cell_type": "code",
   "execution_count": 12,
   "id": "f6b1bd1c",
   "metadata": {
    "execution": {
     "iopub.execute_input": "2022-11-24T09:52:06.070328Z",
     "iopub.status.busy": "2022-11-24T09:52:06.069492Z",
     "iopub.status.idle": "2022-11-24T09:52:06.103145Z",
     "shell.execute_reply": "2022-11-24T09:52:06.102454Z",
     "shell.execute_reply.started": "2021-12-14T13:16:35.321289Z"
    },
    "papermill": {
     "duration": 0.079316,
     "end_time": "2022-11-24T09:52:06.103305",
     "exception": false,
     "start_time": "2022-11-24T09:52:06.023989",
     "status": "completed"
    },
    "tags": []
   },
   "outputs": [
    {
     "name": "stderr",
     "output_type": "stream",
     "text": [
      "/opt/conda/lib/python3.7/site-packages/ipykernel_launcher.py:9: SettingWithCopyWarning: \n",
      "A value is trying to be set on a copy of a slice from a DataFrame\n",
      "\n",
      "See the caveats in the documentation: https://pandas.pydata.org/pandas-docs/stable/user_guide/indexing.html#returning-a-view-versus-a-copy\n",
      "  if __name__ == '__main__':\n",
      "/opt/conda/lib/python3.7/site-packages/ipykernel_launcher.py:11: SettingWithCopyWarning: \n",
      "A value is trying to be set on a copy of a slice from a DataFrame\n",
      "\n",
      "See the caveats in the documentation: https://pandas.pydata.org/pandas-docs/stable/user_guide/indexing.html#returning-a-view-versus-a-copy\n",
      "  # This is added back by InteractiveShellApp.init_path()\n"
     ]
    }
   ],
   "source": [
    "# I fear normalizing data will leak the data but i want the numbers to be on the same scale so i will find percent change for each row from a timestamp before\n",
    "normalizing_cols = ['open', 'high', 'low', 'close','SMA_7','SMA_14', 'SMA_21', 'RSI_7', 'RSI_14', 'RSI_21', 'ATR_14', 'bb_mavg','bb_hband', 'bb_lband']\n",
    "# \n",
    "for col in normalizing_cols:\n",
    "#     train[col + '_old'] = train[col].tolist()\n",
    "#     test[col + '_old'] = test[col].tolist()\n",
    "    \n",
    "    train[col] = train[col].pct_change()\n",
    "    train[col][0] = 0\n",
    "    test[col] = test[col].pct_change()\n",
    "    test[col][0] = 0"
   ]
  },
  {
   "cell_type": "code",
   "execution_count": 13,
   "id": "bc6376e6",
   "metadata": {
    "execution": {
     "iopub.execute_input": "2022-11-24T09:52:06.181224Z",
     "iopub.status.busy": "2022-11-24T09:52:06.180512Z",
     "iopub.status.idle": "2022-11-24T09:52:06.201125Z",
     "shell.execute_reply": "2022-11-24T09:52:06.200390Z",
     "shell.execute_reply.started": "2021-12-14T13:16:37.530264Z"
    },
    "papermill": {
     "duration": 0.061415,
     "end_time": "2022-11-24T09:52:06.201284",
     "exception": false,
     "start_time": "2022-11-24T09:52:06.139869",
     "status": "completed"
    },
    "tags": []
   },
   "outputs": [],
   "source": [
    "train.drop(index=[0],inplace=True)\n",
    "target.drop(index=[0],inplace=True)"
   ]
  },
  {
   "cell_type": "code",
   "execution_count": 14,
   "id": "fbd60922",
   "metadata": {
    "execution": {
     "iopub.execute_input": "2022-11-24T09:52:06.283240Z",
     "iopub.status.busy": "2022-11-24T09:52:06.282507Z",
     "iopub.status.idle": "2022-11-24T09:52:06.292778Z",
     "shell.execute_reply": "2022-11-24T09:52:06.292190Z",
     "shell.execute_reply.started": "2021-12-14T13:16:39.467924Z"
    },
    "papermill": {
     "duration": 0.056495,
     "end_time": "2022-11-24T09:52:06.292929",
     "exception": false,
     "start_time": "2022-11-24T09:52:06.236434",
     "status": "completed"
    },
    "tags": []
   },
   "outputs": [],
   "source": [
    "# No use of date, day, week rn -> (can't find a way to use these rn)\n",
    "# train.drop(columns = ['Id','date','day','week'],inplace=True)\n",
    "train.drop(columns = ['Id','date'],inplace=True)\n",
    "train['day'] = train['day']/31\n",
    "train['week'] = train['week']/54\n",
    "# test.drop(columns = ['Id','date','day','week'],inplace=True)\n",
    "test.drop(columns = ['Id','date'],inplace=True)\n",
    "test['day'] = test['day']/31\n",
    "test['week'] = test['week']/54\n",
    "target.drop(columns = ['Id'],inplace=True)"
   ]
  },
  {
   "cell_type": "code",
   "execution_count": 15,
   "id": "06405a73",
   "metadata": {
    "execution": {
     "iopub.execute_input": "2022-11-24T09:52:06.367667Z",
     "iopub.status.busy": "2022-11-24T09:52:06.366344Z",
     "iopub.status.idle": "2022-11-24T09:52:06.370707Z",
     "shell.execute_reply": "2022-11-24T09:52:06.370144Z",
     "shell.execute_reply.started": "2021-12-14T13:16:41.845707Z"
    },
    "papermill": {
     "duration": 0.042885,
     "end_time": "2022-11-24T09:52:06.370844",
     "exception": false,
     "start_time": "2022-11-24T09:52:06.327959",
     "status": "completed"
    },
    "tags": []
   },
   "outputs": [],
   "source": [
    "# train.drop(columns = ['year'],inplace=True)"
   ]
  },
  {
   "cell_type": "code",
   "execution_count": 16,
   "id": "0f825e79",
   "metadata": {
    "execution": {
     "iopub.execute_input": "2022-11-24T09:52:06.445463Z",
     "iopub.status.busy": "2022-11-24T09:52:06.444815Z",
     "iopub.status.idle": "2022-11-24T09:52:06.447554Z",
     "shell.execute_reply": "2022-11-24T09:52:06.448004Z",
     "shell.execute_reply.started": "2021-12-14T13:16:42.11521Z"
    },
    "papermill": {
     "duration": 0.042512,
     "end_time": "2022-11-24T09:52:06.448209",
     "exception": false,
     "start_time": "2022-11-24T09:52:06.405697",
     "status": "completed"
    },
    "tags": []
   },
   "outputs": [],
   "source": [
    "# useless_feature = ['week','percent_jump_from_low_to_high','RSI_7']\n",
    "# train.drop(columns=useless_feature,inplace=True)\n",
    "# test.drop(columns=useless_feature,inplace=True)"
   ]
  },
  {
   "cell_type": "code",
   "execution_count": 17,
   "id": "9d2ac866",
   "metadata": {
    "execution": {
     "iopub.execute_input": "2022-11-24T09:52:06.524355Z",
     "iopub.status.busy": "2022-11-24T09:52:06.523635Z",
     "iopub.status.idle": "2022-11-24T09:52:06.526738Z",
     "shell.execute_reply": "2022-11-24T09:52:06.526011Z",
     "shell.execute_reply.started": "2021-12-14T13:16:42.435591Z"
    },
    "papermill": {
     "duration": 0.043634,
     "end_time": "2022-11-24T09:52:06.526888",
     "exception": false,
     "start_time": "2022-11-24T09:52:06.483254",
     "status": "completed"
    },
    "tags": []
   },
   "outputs": [],
   "source": [
    "x_train = train.iloc[:int(0.8*train.shape[0])]\n",
    "x_test = train.iloc[int(0.8*train.shape[0]):] \n",
    "y_train = target.iloc[:int(0.8*target.shape[0])]\n",
    "y_test = target.iloc[int(0.8*target.shape[0]):]"
   ]
  },
  {
   "cell_type": "code",
   "execution_count": 18,
   "id": "49ca8191",
   "metadata": {
    "execution": {
     "iopub.execute_input": "2022-11-24T09:52:06.602568Z",
     "iopub.status.busy": "2022-11-24T09:52:06.601770Z",
     "iopub.status.idle": "2022-11-24T09:52:07.636934Z",
     "shell.execute_reply": "2022-11-24T09:52:07.636359Z",
     "shell.execute_reply.started": "2021-12-14T13:16:44.810293Z"
    },
    "papermill": {
     "duration": 1.075049,
     "end_time": "2022-11-24T09:52:07.637113",
     "exception": false,
     "start_time": "2022-11-24T09:52:06.562064",
     "status": "completed"
    },
    "tags": []
   },
   "outputs": [],
   "source": [
    "from sklearn.metrics import f1_score\n",
    "from sklearn.metrics import roc_auc_score \n",
    "from sklearn.linear_model import LogisticRegression \n",
    "from sklearn.linear_model import LinearRegression "
   ]
  },
  {
   "cell_type": "code",
   "execution_count": 19,
   "id": "d4aad272",
   "metadata": {
    "execution": {
     "iopub.execute_input": "2022-11-24T09:52:07.712738Z",
     "iopub.status.busy": "2022-11-24T09:52:07.711950Z",
     "iopub.status.idle": "2022-11-24T09:52:07.715201Z",
     "shell.execute_reply": "2022-11-24T09:52:07.714618Z",
     "shell.execute_reply.started": "2021-12-14T13:11:15.641017Z"
    },
    "papermill": {
     "duration": 0.042602,
     "end_time": "2022-11-24T09:52:07.715357",
     "exception": false,
     "start_time": "2022-11-24T09:52:07.672755",
     "status": "completed"
    },
    "tags": []
   },
   "outputs": [],
   "source": [
    "# ligr = LinearRegression()\n",
    "# ligr.fit(x_train,y_train)\n",
    "# prediction = ligr.predict(x_test)\n",
    "# roc_auc_score(y_test,prediction)"
   ]
  },
  {
   "cell_type": "code",
   "execution_count": 20,
   "id": "39f1e8de",
   "metadata": {
    "execution": {
     "iopub.execute_input": "2022-11-24T09:52:07.791726Z",
     "iopub.status.busy": "2022-11-24T09:52:07.791008Z",
     "iopub.status.idle": "2022-11-24T09:52:07.794261Z",
     "shell.execute_reply": "2022-11-24T09:52:07.793478Z",
     "shell.execute_reply.started": "2021-12-14T13:11:18.117604Z"
    },
    "papermill": {
     "duration": 0.044128,
     "end_time": "2022-11-24T09:52:07.794421",
     "exception": false,
     "start_time": "2022-11-24T09:52:07.750293",
     "status": "completed"
    },
    "tags": []
   },
   "outputs": [],
   "source": [
    "log = LogisticRegression(class_weight='balanced')"
   ]
  },
  {
   "cell_type": "code",
   "execution_count": 21,
   "id": "fb1f92be",
   "metadata": {
    "execution": {
     "iopub.execute_input": "2022-11-24T09:52:07.869916Z",
     "iopub.status.busy": "2022-11-24T09:52:07.868963Z",
     "iopub.status.idle": "2022-11-24T09:52:07.871362Z",
     "shell.execute_reply": "2022-11-24T09:52:07.871830Z",
     "shell.execute_reply.started": "2021-12-14T13:11:18.353622Z"
    },
    "papermill": {
     "duration": 0.042185,
     "end_time": "2022-11-24T09:52:07.872018",
     "exception": false,
     "start_time": "2022-11-24T09:52:07.829833",
     "status": "completed"
    },
    "tags": []
   },
   "outputs": [],
   "source": [
    "# from sklearn.feature_selection import RFE\n",
    "# predictor = x_train\n",
    "# selector = RFE(log,n_features_to_select=1)\n",
    "# selector.fit(predictor,y_train)\n",
    "# order = selector.ranking_\n",
    "# feature_ranks = []\n",
    "# for i in order:\n",
    "#     feature_ranks.append(f\"{i}.{x_train.columns[i-1]}\")\n",
    "# #     print(x_train.columns[i-1])\n",
    "    "
   ]
  },
  {
   "cell_type": "code",
   "execution_count": 22,
   "id": "14d6d951",
   "metadata": {
    "execution": {
     "iopub.execute_input": "2022-11-24T09:52:07.949355Z",
     "iopub.status.busy": "2022-11-24T09:52:07.948611Z",
     "iopub.status.idle": "2022-11-24T09:52:07.951821Z",
     "shell.execute_reply": "2022-11-24T09:52:07.951192Z",
     "shell.execute_reply.started": "2021-12-14T12:53:40.4749Z"
    },
    "papermill": {
     "duration": 0.043358,
     "end_time": "2022-11-24T09:52:07.951967",
     "exception": false,
     "start_time": "2022-11-24T09:52:07.908609",
     "status": "completed"
    },
    "tags": []
   },
   "outputs": [],
   "source": [
    "# feature_ranks\n",
    "# x_train.columns"
   ]
  },
  {
   "cell_type": "code",
   "execution_count": 23,
   "id": "b1121f92",
   "metadata": {
    "execution": {
     "iopub.execute_input": "2022-11-24T09:52:08.028611Z",
     "iopub.status.busy": "2022-11-24T09:52:08.027797Z",
     "iopub.status.idle": "2022-11-24T09:52:08.369786Z",
     "shell.execute_reply": "2022-11-24T09:52:08.371478Z",
     "shell.execute_reply.started": "2021-12-14T12:53:42.597897Z"
    },
    "papermill": {
     "duration": 0.384632,
     "end_time": "2022-11-24T09:52:08.371839",
     "exception": false,
     "start_time": "2022-11-24T09:52:07.987207",
     "status": "completed"
    },
    "tags": []
   },
   "outputs": [
    {
     "name": "stderr",
     "output_type": "stream",
     "text": [
      "/opt/conda/lib/python3.7/site-packages/sklearn/utils/validation.py:72: DataConversionWarning: A column-vector y was passed when a 1d array was expected. Please change the shape of y to (n_samples, ), for example using ravel().\n",
      "  return f(**kwargs)\n"
     ]
    },
    {
     "data": {
      "text/plain": [
       "Index(['open', 'high', 'low', 'close', 'day', 'SMA_7', 'SMA_14', 'SMA_21',\n",
       "       'RSI_14', 'RSI_21', 'ATR_14', 'bb_mavg', 'bb_hband', 'bb_lband',\n",
       "       'hour+min', 'close_higher_than_open', 'is RSI 7 greater than 21',\n",
       "       'is SMA 7 greater than 21', 'percent_jump_from_low_to_high',\n",
       "       'Overbought', 'Oversold'],\n",
       "      dtype='object')"
      ]
     },
     "execution_count": 23,
     "metadata": {},
     "output_type": "execute_result"
    }
   ],
   "source": [
    "from sklearn.feature_selection import SelectFromModel\n",
    "smf = SelectFromModel(log,threshold=-np.inf,max_features=21)\n",
    "smf.fit(x_train,y_train)\n",
    "feature_idx = smf.get_support()\n",
    "feature_name = x_train.columns[feature_idx]\n",
    "feature_name"
   ]
  },
  {
   "cell_type": "code",
   "execution_count": 24,
   "id": "34b30e1f",
   "metadata": {
    "execution": {
     "iopub.execute_input": "2022-11-24T09:52:08.511521Z",
     "iopub.status.busy": "2022-11-24T09:52:08.510813Z",
     "iopub.status.idle": "2022-11-24T09:52:08.514582Z",
     "shell.execute_reply": "2022-11-24T09:52:08.515197Z",
     "shell.execute_reply.started": "2021-12-14T12:53:45.688336Z"
    },
    "papermill": {
     "duration": 0.052392,
     "end_time": "2022-11-24T09:52:08.515383",
     "exception": false,
     "start_time": "2022-11-24T09:52:08.462991",
     "status": "completed"
    },
    "tags": []
   },
   "outputs": [],
   "source": [
    "x_train_imp = x_train[feature_name]\n",
    "x_test_imp = x_test[feature_name]"
   ]
  },
  {
   "cell_type": "code",
   "execution_count": 25,
   "id": "3c5e93b7",
   "metadata": {
    "execution": {
     "iopub.execute_input": "2022-11-24T09:52:08.593046Z",
     "iopub.status.busy": "2022-11-24T09:52:08.592407Z",
     "iopub.status.idle": "2022-11-24T09:52:08.826030Z",
     "shell.execute_reply": "2022-11-24T09:52:08.827338Z",
     "shell.execute_reply.started": "2021-12-14T12:56:29.945964Z"
    },
    "papermill": {
     "duration": 0.276262,
     "end_time": "2022-11-24T09:52:08.827681",
     "exception": false,
     "start_time": "2022-11-24T09:52:08.551419",
     "status": "completed"
    },
    "tags": []
   },
   "outputs": [
    {
     "name": "stderr",
     "output_type": "stream",
     "text": [
      "/opt/conda/lib/python3.7/site-packages/sklearn/utils/validation.py:72: DataConversionWarning: A column-vector y was passed when a 1d array was expected. Please change the shape of y to (n_samples, ), for example using ravel().\n",
      "  return f(**kwargs)\n"
     ]
    },
    {
     "data": {
      "text/plain": [
       "0.5139817360376814"
      ]
     },
     "execution_count": 25,
     "metadata": {},
     "output_type": "execute_result"
    }
   ],
   "source": [
    "\n",
    "log.fit(x_train_imp,y_train)\n",
    "prediction = log.predict_proba(x_test_imp)[:,1]\n",
    "\n",
    "# log.fit(x_train,y_train)\n",
    "# prediction = log.predict(x_test)\n",
    "roc_auc_score(y_test,prediction)\n",
    "## 0.516706719215611"
   ]
  },
  {
   "cell_type": "code",
   "execution_count": 26,
   "id": "f9636aba",
   "metadata": {
    "execution": {
     "iopub.execute_input": "2022-11-24T09:52:08.966060Z",
     "iopub.status.busy": "2022-11-24T09:52:08.965325Z",
     "iopub.status.idle": "2022-11-24T09:52:08.969699Z",
     "shell.execute_reply": "2022-11-24T09:52:08.969024Z",
     "shell.execute_reply.started": "2021-12-14T12:56:07.115694Z"
    },
    "papermill": {
     "duration": 0.048488,
     "end_time": "2022-11-24T09:52:08.969850",
     "exception": false,
     "start_time": "2022-11-24T09:52:08.921362",
     "status": "completed"
    },
    "tags": []
   },
   "outputs": [
    {
     "data": {
      "text/plain": [
       "array([0, 1])"
      ]
     },
     "execution_count": 26,
     "metadata": {},
     "output_type": "execute_result"
    }
   ],
   "source": [
    "log.classes_"
   ]
  },
  {
   "cell_type": "code",
   "execution_count": 27,
   "id": "13526ba4",
   "metadata": {
    "execution": {
     "iopub.execute_input": "2022-11-24T09:52:09.048428Z",
     "iopub.status.busy": "2022-11-24T09:52:09.047704Z",
     "iopub.status.idle": "2022-11-24T09:52:09.050059Z",
     "shell.execute_reply": "2022-11-24T09:52:09.050666Z"
    },
    "papermill": {
     "duration": 0.043316,
     "end_time": "2022-11-24T09:52:09.050845",
     "exception": false,
     "start_time": "2022-11-24T09:52:09.007529",
     "status": "completed"
    },
    "tags": []
   },
   "outputs": [],
   "source": [
    "# 21- 0.5174872632894357"
   ]
  },
  {
   "cell_type": "code",
   "execution_count": 28,
   "id": "48136727",
   "metadata": {
    "execution": {
     "iopub.execute_input": "2022-11-24T09:52:09.129778Z",
     "iopub.status.busy": "2022-11-24T09:52:09.129048Z",
     "iopub.status.idle": "2022-11-24T09:52:19.910774Z",
     "shell.execute_reply": "2022-11-24T09:52:19.911296Z",
     "shell.execute_reply.started": "2021-12-13T14:28:15.98807Z"
    },
    "papermill": {
     "duration": 10.823818,
     "end_time": "2022-11-24T09:52:19.911475",
     "exception": false,
     "start_time": "2022-11-24T09:52:09.087657",
     "status": "completed"
    },
    "tags": []
   },
   "outputs": [
    {
     "name": "stderr",
     "output_type": "stream",
     "text": [
      "/opt/conda/lib/python3.7/site-packages/ipykernel_launcher.py:3: DataConversionWarning: A column-vector y was passed when a 1d array was expected. Please change the shape of y to (n_samples,), for example using ravel().\n",
      "  This is separate from the ipykernel package so we can avoid doing imports until\n"
     ]
    },
    {
     "data": {
      "text/plain": [
       "0.5032798231279438"
      ]
     },
     "execution_count": 28,
     "metadata": {},
     "output_type": "execute_result"
    }
   ],
   "source": [
    "from sklearn.ensemble import RandomForestClassifier\n",
    "rfg = RandomForestClassifier(class_weight='balanced')\n",
    "rfg.fit(x_train,y_train)\n",
    "prediction = rfg.predict(x_test)\n",
    "roc_auc_score(y_test,prediction)"
   ]
  },
  {
   "cell_type": "code",
   "execution_count": 29,
   "id": "71c1f7af",
   "metadata": {
    "execution": {
     "iopub.execute_input": "2022-11-24T09:52:19.992000Z",
     "iopub.status.busy": "2022-11-24T09:52:19.991338Z",
     "iopub.status.idle": "2022-11-24T09:52:19.993952Z",
     "shell.execute_reply": "2022-11-24T09:52:19.993443Z",
     "shell.execute_reply.started": "2021-12-13T14:28:25.813314Z"
    },
    "papermill": {
     "duration": 0.04444,
     "end_time": "2022-11-24T09:52:19.994130",
     "exception": false,
     "start_time": "2022-11-24T09:52:19.949690",
     "status": "completed"
    },
    "tags": []
   },
   "outputs": [],
   "source": [
    "# from sklearn.feature_selection import mutual_info_classif\n",
    "# importances = mutual_info_classif(x_train,y_train)\n",
    "# feat_importances = pd.Series(importances,x_train.columns)\n",
    "# plt.figure(figsize=(10,10))\n",
    "# feat_importances.plot(kind='barh',color = 'teal')\n",
    "# plt.show()"
   ]
  },
  {
   "cell_type": "code",
   "execution_count": 30,
   "id": "2f9d020a",
   "metadata": {
    "execution": {
     "iopub.execute_input": "2022-11-24T09:52:20.074610Z",
     "iopub.status.busy": "2022-11-24T09:52:20.073744Z",
     "iopub.status.idle": "2022-11-24T09:52:24.598109Z",
     "shell.execute_reply": "2022-11-24T09:52:24.598642Z",
     "shell.execute_reply.started": "2021-12-13T14:28:25.820078Z"
    },
    "papermill": {
     "duration": 4.567207,
     "end_time": "2022-11-24T09:52:24.598843",
     "exception": false,
     "start_time": "2022-11-24T09:52:20.031636",
     "status": "completed"
    },
    "tags": []
   },
   "outputs": [
    {
     "name": "stderr",
     "output_type": "stream",
     "text": [
      "/opt/conda/lib/python3.7/site-packages/xgboost/sklearn.py:1224: UserWarning: The use of label encoder in XGBClassifier is deprecated and will be removed in a future release. To remove this warning, do the following: 1) Pass option use_label_encoder=False when constructing XGBClassifier object; and 2) Encode your labels (y) as integers starting with 0, i.e. 0, 1, 2, ..., [num_class - 1].\n",
      "  warnings.warn(label_encoder_deprecation_msg, UserWarning)\n",
      "/opt/conda/lib/python3.7/site-packages/sklearn/utils/validation.py:72: DataConversionWarning: A column-vector y was passed when a 1d array was expected. Please change the shape of y to (n_samples, ), for example using ravel().\n",
      "  return f(**kwargs)\n"
     ]
    },
    {
     "name": "stdout",
     "output_type": "stream",
     "text": [
      "[09:52:20] WARNING: ../src/learner.cc:1115: Starting in XGBoost 1.3.0, the default evaluation metric used with the objective 'binary:logistic' was changed from 'error' to 'logloss'. Explicitly set eval_metric if you'd like to restore the old behavior.\n"
     ]
    },
    {
     "data": {
      "text/plain": [
       "0.49956743247140245"
      ]
     },
     "execution_count": 30,
     "metadata": {},
     "output_type": "execute_result"
    }
   ],
   "source": [
    "from xgboost import XGBClassifier \n",
    "xgbc = XGBClassifier()\n",
    "xgbc.fit(x_train,y_train)\n",
    "prediction = xgbc.predict(x_test)\n",
    "roc_auc_score(y_test,prediction)\n",
    "# best score -> 0.5157666057867922 by taking all those time features and everything"
   ]
  },
  {
   "cell_type": "code",
   "execution_count": 31,
   "id": "31257b04",
   "metadata": {
    "execution": {
     "iopub.execute_input": "2022-11-24T09:52:24.681487Z",
     "iopub.status.busy": "2022-11-24T09:52:24.680789Z",
     "iopub.status.idle": "2022-11-24T09:52:33.431586Z",
     "shell.execute_reply": "2022-11-24T09:52:33.432112Z",
     "shell.execute_reply.started": "2021-12-13T14:28:34.048164Z"
    },
    "papermill": {
     "duration": 8.794396,
     "end_time": "2022-11-24T09:52:33.432329",
     "exception": false,
     "start_time": "2022-11-24T09:52:24.637933",
     "status": "completed"
    },
    "tags": []
   },
   "outputs": [
    {
     "name": "stdout",
     "output_type": "stream",
     "text": [
      "0:\tlearn: 0.6930046\ttotal: 65.8ms\tremaining: 1m 5s\n",
      "1:\tlearn: 0.6928558\ttotal: 73.5ms\tremaining: 36.7s\n",
      "2:\tlearn: 0.6926664\ttotal: 81.8ms\tremaining: 27.2s\n",
      "3:\tlearn: 0.6925084\ttotal: 89.5ms\tremaining: 22.3s\n",
      "4:\tlearn: 0.6923399\ttotal: 98.1ms\tremaining: 19.5s\n",
      "5:\tlearn: 0.6921914\ttotal: 106ms\tremaining: 17.6s\n",
      "6:\tlearn: 0.6920319\ttotal: 114ms\tremaining: 16.2s\n",
      "7:\tlearn: 0.6918770\ttotal: 122ms\tremaining: 15.1s\n",
      "8:\tlearn: 0.6917064\ttotal: 130ms\tremaining: 14.3s\n",
      "9:\tlearn: 0.6915614\ttotal: 137ms\tremaining: 13.6s\n",
      "10:\tlearn: 0.6914134\ttotal: 146ms\tremaining: 13.1s\n",
      "11:\tlearn: 0.6912694\ttotal: 154ms\tremaining: 12.7s\n",
      "12:\tlearn: 0.6911330\ttotal: 163ms\tremaining: 12.3s\n",
      "13:\tlearn: 0.6909689\ttotal: 170ms\tremaining: 12s\n",
      "14:\tlearn: 0.6908552\ttotal: 179ms\tremaining: 11.7s\n",
      "15:\tlearn: 0.6907332\ttotal: 187ms\tremaining: 11.5s\n",
      "16:\tlearn: 0.6906323\ttotal: 195ms\tremaining: 11.3s\n",
      "17:\tlearn: 0.6905021\ttotal: 203ms\tremaining: 11.1s\n",
      "18:\tlearn: 0.6903486\ttotal: 210ms\tremaining: 10.9s\n",
      "19:\tlearn: 0.6901850\ttotal: 218ms\tremaining: 10.7s\n",
      "20:\tlearn: 0.6900538\ttotal: 225ms\tremaining: 10.5s\n",
      "21:\tlearn: 0.6899394\ttotal: 233ms\tremaining: 10.3s\n",
      "22:\tlearn: 0.6898310\ttotal: 240ms\tremaining: 10.2s\n",
      "23:\tlearn: 0.6897233\ttotal: 248ms\tremaining: 10.1s\n",
      "24:\tlearn: 0.6896192\ttotal: 256ms\tremaining: 9.97s\n",
      "25:\tlearn: 0.6895517\ttotal: 267ms\tremaining: 10s\n",
      "26:\tlearn: 0.6894247\ttotal: 275ms\tremaining: 9.92s\n",
      "27:\tlearn: 0.6892896\ttotal: 283ms\tremaining: 9.81s\n",
      "28:\tlearn: 0.6892337\ttotal: 294ms\tremaining: 9.83s\n",
      "29:\tlearn: 0.6891113\ttotal: 308ms\tremaining: 9.95s\n",
      "30:\tlearn: 0.6889999\ttotal: 318ms\tremaining: 9.93s\n",
      "31:\tlearn: 0.6888892\ttotal: 330ms\tremaining: 9.98s\n",
      "32:\tlearn: 0.6887739\ttotal: 342ms\tremaining: 10s\n",
      "33:\tlearn: 0.6886718\ttotal: 352ms\tremaining: 9.99s\n",
      "34:\tlearn: 0.6885557\ttotal: 362ms\tremaining: 9.99s\n",
      "35:\tlearn: 0.6884524\ttotal: 373ms\tremaining: 9.99s\n",
      "36:\tlearn: 0.6883056\ttotal: 382ms\tremaining: 9.94s\n",
      "37:\tlearn: 0.6881895\ttotal: 393ms\tremaining: 9.94s\n",
      "38:\tlearn: 0.6881051\ttotal: 403ms\tremaining: 9.94s\n",
      "39:\tlearn: 0.6880109\ttotal: 412ms\tremaining: 9.88s\n",
      "40:\tlearn: 0.6879029\ttotal: 420ms\tremaining: 9.81s\n",
      "41:\tlearn: 0.6877956\ttotal: 427ms\tremaining: 9.74s\n",
      "42:\tlearn: 0.6876754\ttotal: 435ms\tremaining: 9.68s\n",
      "43:\tlearn: 0.6875300\ttotal: 443ms\tremaining: 9.62s\n",
      "44:\tlearn: 0.6874101\ttotal: 450ms\tremaining: 9.55s\n",
      "45:\tlearn: 0.6873123\ttotal: 457ms\tremaining: 9.48s\n",
      "46:\tlearn: 0.6872012\ttotal: 466ms\tremaining: 9.46s\n",
      "47:\tlearn: 0.6870548\ttotal: 475ms\tremaining: 9.41s\n",
      "48:\tlearn: 0.6869598\ttotal: 483ms\tremaining: 9.37s\n",
      "49:\tlearn: 0.6868923\ttotal: 490ms\tremaining: 9.31s\n",
      "50:\tlearn: 0.6867871\ttotal: 497ms\tremaining: 9.25s\n",
      "51:\tlearn: 0.6866741\ttotal: 504ms\tremaining: 9.19s\n",
      "52:\tlearn: 0.6865745\ttotal: 512ms\tremaining: 9.15s\n",
      "53:\tlearn: 0.6864925\ttotal: 519ms\tremaining: 9.1s\n",
      "54:\tlearn: 0.6863881\ttotal: 527ms\tremaining: 9.06s\n",
      "55:\tlearn: 0.6862731\ttotal: 535ms\tremaining: 9.02s\n",
      "56:\tlearn: 0.6861287\ttotal: 543ms\tremaining: 8.98s\n",
      "57:\tlearn: 0.6860038\ttotal: 550ms\tremaining: 8.94s\n",
      "58:\tlearn: 0.6859552\ttotal: 558ms\tremaining: 8.9s\n",
      "59:\tlearn: 0.6858380\ttotal: 566ms\tremaining: 8.87s\n",
      "60:\tlearn: 0.6857690\ttotal: 573ms\tremaining: 8.82s\n",
      "61:\tlearn: 0.6856450\ttotal: 581ms\tremaining: 8.79s\n",
      "62:\tlearn: 0.6855399\ttotal: 589ms\tremaining: 8.77s\n",
      "63:\tlearn: 0.6854201\ttotal: 597ms\tremaining: 8.73s\n",
      "64:\tlearn: 0.6852995\ttotal: 604ms\tremaining: 8.7s\n",
      "65:\tlearn: 0.6852201\ttotal: 612ms\tremaining: 8.66s\n",
      "66:\tlearn: 0.6851344\ttotal: 619ms\tremaining: 8.63s\n",
      "67:\tlearn: 0.6849843\ttotal: 627ms\tremaining: 8.6s\n",
      "68:\tlearn: 0.6849024\ttotal: 635ms\tremaining: 8.56s\n",
      "69:\tlearn: 0.6848284\ttotal: 642ms\tremaining: 8.53s\n",
      "70:\tlearn: 0.6847161\ttotal: 649ms\tremaining: 8.5s\n",
      "71:\tlearn: 0.6846423\ttotal: 657ms\tremaining: 8.47s\n",
      "72:\tlearn: 0.6845267\ttotal: 666ms\tremaining: 8.46s\n",
      "73:\tlearn: 0.6844745\ttotal: 674ms\tremaining: 8.44s\n",
      "74:\tlearn: 0.6844047\ttotal: 681ms\tremaining: 8.4s\n",
      "75:\tlearn: 0.6843107\ttotal: 689ms\tremaining: 8.38s\n",
      "76:\tlearn: 0.6842377\ttotal: 696ms\tremaining: 8.35s\n",
      "77:\tlearn: 0.6841785\ttotal: 704ms\tremaining: 8.32s\n",
      "78:\tlearn: 0.6841030\ttotal: 712ms\tremaining: 8.3s\n",
      "79:\tlearn: 0.6839930\ttotal: 719ms\tremaining: 8.27s\n",
      "80:\tlearn: 0.6838878\ttotal: 727ms\tremaining: 8.25s\n",
      "81:\tlearn: 0.6837983\ttotal: 735ms\tremaining: 8.22s\n",
      "82:\tlearn: 0.6837090\ttotal: 743ms\tremaining: 8.2s\n",
      "83:\tlearn: 0.6836178\ttotal: 750ms\tremaining: 8.18s\n",
      "84:\tlearn: 0.6835152\ttotal: 758ms\tremaining: 8.16s\n",
      "85:\tlearn: 0.6834229\ttotal: 766ms\tremaining: 8.14s\n",
      "86:\tlearn: 0.6833297\ttotal: 773ms\tremaining: 8.12s\n",
      "87:\tlearn: 0.6832641\ttotal: 781ms\tremaining: 8.09s\n",
      "88:\tlearn: 0.6831807\ttotal: 788ms\tremaining: 8.07s\n",
      "89:\tlearn: 0.6830690\ttotal: 796ms\tremaining: 8.05s\n",
      "90:\tlearn: 0.6829808\ttotal: 804ms\tremaining: 8.03s\n",
      "91:\tlearn: 0.6828359\ttotal: 812ms\tremaining: 8.01s\n",
      "92:\tlearn: 0.6827286\ttotal: 819ms\tremaining: 7.99s\n",
      "93:\tlearn: 0.6826436\ttotal: 827ms\tremaining: 7.97s\n",
      "94:\tlearn: 0.6825330\ttotal: 835ms\tremaining: 7.95s\n",
      "95:\tlearn: 0.6824178\ttotal: 843ms\tremaining: 7.93s\n",
      "96:\tlearn: 0.6823262\ttotal: 850ms\tremaining: 7.91s\n",
      "97:\tlearn: 0.6822849\ttotal: 857ms\tremaining: 7.89s\n",
      "98:\tlearn: 0.6822130\ttotal: 867ms\tremaining: 7.89s\n",
      "99:\tlearn: 0.6821577\ttotal: 875ms\tremaining: 7.87s\n",
      "100:\tlearn: 0.6820671\ttotal: 883ms\tremaining: 7.86s\n",
      "101:\tlearn: 0.6819814\ttotal: 891ms\tremaining: 7.84s\n",
      "102:\tlearn: 0.6818851\ttotal: 898ms\tremaining: 7.82s\n",
      "103:\tlearn: 0.6818114\ttotal: 906ms\tremaining: 7.81s\n",
      "104:\tlearn: 0.6817133\ttotal: 914ms\tremaining: 7.79s\n",
      "105:\tlearn: 0.6815861\ttotal: 921ms\tremaining: 7.77s\n",
      "106:\tlearn: 0.6815205\ttotal: 929ms\tremaining: 7.75s\n",
      "107:\tlearn: 0.6814186\ttotal: 937ms\tremaining: 7.74s\n",
      "108:\tlearn: 0.6813585\ttotal: 944ms\tremaining: 7.72s\n",
      "109:\tlearn: 0.6813146\ttotal: 951ms\tremaining: 7.7s\n",
      "110:\tlearn: 0.6812141\ttotal: 959ms\tremaining: 7.68s\n",
      "111:\tlearn: 0.6811224\ttotal: 967ms\tremaining: 7.67s\n",
      "112:\tlearn: 0.6810407\ttotal: 974ms\tremaining: 7.65s\n",
      "113:\tlearn: 0.6809277\ttotal: 983ms\tremaining: 7.64s\n",
      "114:\tlearn: 0.6808413\ttotal: 990ms\tremaining: 7.62s\n",
      "115:\tlearn: 0.6807954\ttotal: 997ms\tremaining: 7.6s\n",
      "116:\tlearn: 0.6807300\ttotal: 1s\tremaining: 7.58s\n",
      "117:\tlearn: 0.6806331\ttotal: 1.01s\tremaining: 7.57s\n",
      "118:\tlearn: 0.6805554\ttotal: 1.02s\tremaining: 7.55s\n",
      "119:\tlearn: 0.6804332\ttotal: 1.03s\tremaining: 7.53s\n",
      "120:\tlearn: 0.6803438\ttotal: 1.03s\tremaining: 7.52s\n",
      "121:\tlearn: 0.6802853\ttotal: 1.04s\tremaining: 7.5s\n",
      "122:\tlearn: 0.6801976\ttotal: 1.05s\tremaining: 7.49s\n",
      "123:\tlearn: 0.6801015\ttotal: 1.06s\tremaining: 7.48s\n",
      "124:\tlearn: 0.6800047\ttotal: 1.07s\tremaining: 7.48s\n",
      "125:\tlearn: 0.6799127\ttotal: 1.08s\tremaining: 7.47s\n",
      "126:\tlearn: 0.6798023\ttotal: 1.08s\tremaining: 7.46s\n",
      "127:\tlearn: 0.6797159\ttotal: 1.09s\tremaining: 7.44s\n",
      "128:\tlearn: 0.6796068\ttotal: 1.1s\tremaining: 7.43s\n",
      "129:\tlearn: 0.6795302\ttotal: 1.11s\tremaining: 7.42s\n",
      "130:\tlearn: 0.6794581\ttotal: 1.12s\tremaining: 7.4s\n",
      "131:\tlearn: 0.6793625\ttotal: 1.12s\tremaining: 7.39s\n",
      "132:\tlearn: 0.6793148\ttotal: 1.13s\tremaining: 7.37s\n",
      "133:\tlearn: 0.6792145\ttotal: 1.14s\tremaining: 7.36s\n",
      "134:\tlearn: 0.6791761\ttotal: 1.15s\tremaining: 7.34s\n",
      "135:\tlearn: 0.6790813\ttotal: 1.15s\tremaining: 7.33s\n",
      "136:\tlearn: 0.6789969\ttotal: 1.16s\tremaining: 7.32s\n",
      "137:\tlearn: 0.6789131\ttotal: 1.17s\tremaining: 7.31s\n",
      "138:\tlearn: 0.6788595\ttotal: 1.18s\tremaining: 7.3s\n",
      "139:\tlearn: 0.6787721\ttotal: 1.19s\tremaining: 7.29s\n",
      "140:\tlearn: 0.6786622\ttotal: 1.19s\tremaining: 7.27s\n",
      "141:\tlearn: 0.6786158\ttotal: 1.2s\tremaining: 7.26s\n",
      "142:\tlearn: 0.6785391\ttotal: 1.21s\tremaining: 7.24s\n",
      "143:\tlearn: 0.6783932\ttotal: 1.22s\tremaining: 7.23s\n",
      "144:\tlearn: 0.6783612\ttotal: 1.22s\tremaining: 7.22s\n",
      "145:\tlearn: 0.6782457\ttotal: 1.23s\tremaining: 7.21s\n",
      "146:\tlearn: 0.6781448\ttotal: 1.24s\tremaining: 7.2s\n",
      "147:\tlearn: 0.6780706\ttotal: 1.25s\tremaining: 7.18s\n",
      "148:\tlearn: 0.6779597\ttotal: 1.25s\tremaining: 7.17s\n",
      "149:\tlearn: 0.6778959\ttotal: 1.26s\tremaining: 7.16s\n",
      "150:\tlearn: 0.6778278\ttotal: 1.27s\tremaining: 7.15s\n",
      "151:\tlearn: 0.6777325\ttotal: 1.28s\tremaining: 7.14s\n",
      "152:\tlearn: 0.6776276\ttotal: 1.29s\tremaining: 7.13s\n",
      "153:\tlearn: 0.6775547\ttotal: 1.29s\tremaining: 7.12s\n",
      "154:\tlearn: 0.6774618\ttotal: 1.3s\tremaining: 7.11s\n",
      "155:\tlearn: 0.6773888\ttotal: 1.31s\tremaining: 7.09s\n",
      "156:\tlearn: 0.6772960\ttotal: 1.32s\tremaining: 7.08s\n",
      "157:\tlearn: 0.6772232\ttotal: 1.33s\tremaining: 7.07s\n",
      "158:\tlearn: 0.6771423\ttotal: 1.33s\tremaining: 7.06s\n",
      "159:\tlearn: 0.6770489\ttotal: 1.34s\tremaining: 7.04s\n",
      "160:\tlearn: 0.6769700\ttotal: 1.35s\tremaining: 7.04s\n",
      "161:\tlearn: 0.6769054\ttotal: 1.36s\tremaining: 7.02s\n",
      "162:\tlearn: 0.6768122\ttotal: 1.36s\tremaining: 7.01s\n",
      "163:\tlearn: 0.6767324\ttotal: 1.37s\tremaining: 7s\n",
      "164:\tlearn: 0.6766394\ttotal: 1.38s\tremaining: 6.99s\n",
      "165:\tlearn: 0.6765720\ttotal: 1.39s\tremaining: 6.98s\n",
      "166:\tlearn: 0.6765133\ttotal: 1.4s\tremaining: 6.97s\n",
      "167:\tlearn: 0.6764227\ttotal: 1.4s\tremaining: 6.95s\n",
      "168:\tlearn: 0.6763195\ttotal: 1.41s\tremaining: 6.94s\n",
      "169:\tlearn: 0.6762221\ttotal: 1.42s\tremaining: 6.93s\n",
      "170:\tlearn: 0.6761679\ttotal: 1.43s\tremaining: 6.92s\n",
      "171:\tlearn: 0.6760460\ttotal: 1.43s\tremaining: 6.91s\n",
      "172:\tlearn: 0.6759796\ttotal: 1.44s\tremaining: 6.89s\n",
      "173:\tlearn: 0.6759052\ttotal: 1.45s\tremaining: 6.88s\n",
      "174:\tlearn: 0.6758327\ttotal: 1.46s\tremaining: 6.87s\n",
      "175:\tlearn: 0.6757730\ttotal: 1.47s\tremaining: 6.87s\n",
      "176:\tlearn: 0.6756681\ttotal: 1.47s\tremaining: 6.85s\n",
      "177:\tlearn: 0.6755791\ttotal: 1.48s\tremaining: 6.84s\n",
      "178:\tlearn: 0.6755218\ttotal: 1.49s\tremaining: 6.83s\n",
      "179:\tlearn: 0.6754348\ttotal: 1.5s\tremaining: 6.82s\n",
      "180:\tlearn: 0.6753486\ttotal: 1.5s\tremaining: 6.81s\n",
      "181:\tlearn: 0.6752934\ttotal: 1.51s\tremaining: 6.8s\n",
      "182:\tlearn: 0.6752028\ttotal: 1.52s\tremaining: 6.79s\n",
      "183:\tlearn: 0.6751201\ttotal: 1.53s\tremaining: 6.78s\n",
      "184:\tlearn: 0.6750558\ttotal: 1.53s\tremaining: 6.76s\n",
      "185:\tlearn: 0.6749684\ttotal: 1.54s\tremaining: 6.75s\n",
      "186:\tlearn: 0.6748848\ttotal: 1.55s\tremaining: 6.74s\n",
      "187:\tlearn: 0.6747992\ttotal: 1.56s\tremaining: 6.73s\n",
      "188:\tlearn: 0.6747023\ttotal: 1.56s\tremaining: 6.72s\n",
      "189:\tlearn: 0.6746459\ttotal: 1.57s\tremaining: 6.71s\n",
      "190:\tlearn: 0.6745812\ttotal: 1.58s\tremaining: 6.7s\n",
      "191:\tlearn: 0.6744933\ttotal: 1.59s\tremaining: 6.68s\n",
      "192:\tlearn: 0.6744225\ttotal: 1.6s\tremaining: 6.67s\n",
      "193:\tlearn: 0.6743376\ttotal: 1.6s\tremaining: 6.66s\n",
      "194:\tlearn: 0.6742621\ttotal: 1.61s\tremaining: 6.65s\n",
      "195:\tlearn: 0.6741862\ttotal: 1.62s\tremaining: 6.64s\n",
      "196:\tlearn: 0.6741326\ttotal: 1.63s\tremaining: 6.63s\n",
      "197:\tlearn: 0.6740974\ttotal: 1.63s\tremaining: 6.62s\n",
      "198:\tlearn: 0.6740244\ttotal: 1.64s\tremaining: 6.61s\n",
      "199:\tlearn: 0.6739081\ttotal: 1.65s\tremaining: 6.6s\n",
      "200:\tlearn: 0.6738129\ttotal: 1.66s\tremaining: 6.6s\n",
      "201:\tlearn: 0.6737248\ttotal: 1.67s\tremaining: 6.59s\n",
      "202:\tlearn: 0.6736338\ttotal: 1.68s\tremaining: 6.58s\n",
      "203:\tlearn: 0.6735647\ttotal: 1.68s\tremaining: 6.57s\n",
      "204:\tlearn: 0.6734971\ttotal: 1.69s\tremaining: 6.56s\n",
      "205:\tlearn: 0.6734116\ttotal: 1.7s\tremaining: 6.55s\n",
      "206:\tlearn: 0.6733348\ttotal: 1.71s\tremaining: 6.54s\n",
      "207:\tlearn: 0.6732512\ttotal: 1.71s\tremaining: 6.53s\n",
      "208:\tlearn: 0.6731911\ttotal: 1.72s\tremaining: 6.52s\n",
      "209:\tlearn: 0.6730729\ttotal: 1.73s\tremaining: 6.51s\n",
      "210:\tlearn: 0.6730187\ttotal: 1.74s\tremaining: 6.5s\n",
      "211:\tlearn: 0.6729487\ttotal: 1.75s\tremaining: 6.49s\n",
      "212:\tlearn: 0.6728601\ttotal: 1.75s\tremaining: 6.48s\n",
      "213:\tlearn: 0.6728118\ttotal: 1.76s\tremaining: 6.47s\n",
      "214:\tlearn: 0.6727192\ttotal: 1.77s\tremaining: 6.46s\n",
      "215:\tlearn: 0.6726421\ttotal: 1.77s\tremaining: 6.45s\n",
      "216:\tlearn: 0.6725502\ttotal: 1.78s\tremaining: 6.44s\n",
      "217:\tlearn: 0.6724525\ttotal: 1.79s\tremaining: 6.43s\n",
      "218:\tlearn: 0.6723643\ttotal: 1.8s\tremaining: 6.42s\n",
      "219:\tlearn: 0.6723026\ttotal: 1.81s\tremaining: 6.41s\n",
      "220:\tlearn: 0.6722470\ttotal: 1.81s\tremaining: 6.4s\n",
      "221:\tlearn: 0.6721511\ttotal: 1.82s\tremaining: 6.39s\n",
      "222:\tlearn: 0.6721288\ttotal: 1.83s\tremaining: 6.38s\n",
      "223:\tlearn: 0.6720452\ttotal: 1.84s\tremaining: 6.37s\n",
      "224:\tlearn: 0.6719882\ttotal: 1.84s\tremaining: 6.36s\n",
      "225:\tlearn: 0.6718963\ttotal: 1.85s\tremaining: 6.35s\n",
      "226:\tlearn: 0.6718202\ttotal: 1.86s\tremaining: 6.35s\n",
      "227:\tlearn: 0.6717646\ttotal: 1.87s\tremaining: 6.34s\n",
      "228:\tlearn: 0.6717096\ttotal: 1.88s\tremaining: 6.33s\n",
      "229:\tlearn: 0.6716294\ttotal: 1.89s\tremaining: 6.32s\n",
      "230:\tlearn: 0.6715551\ttotal: 1.9s\tremaining: 6.31s\n",
      "231:\tlearn: 0.6714833\ttotal: 1.9s\tremaining: 6.3s\n",
      "232:\tlearn: 0.6714224\ttotal: 1.91s\tremaining: 6.29s\n",
      "233:\tlearn: 0.6713313\ttotal: 1.92s\tremaining: 6.28s\n",
      "234:\tlearn: 0.6712527\ttotal: 1.93s\tremaining: 6.27s\n",
      "235:\tlearn: 0.6711871\ttotal: 1.93s\tremaining: 6.26s\n",
      "236:\tlearn: 0.6710919\ttotal: 1.94s\tremaining: 6.25s\n",
      "237:\tlearn: 0.6710270\ttotal: 1.95s\tremaining: 6.24s\n",
      "238:\tlearn: 0.6709226\ttotal: 1.96s\tremaining: 6.23s\n",
      "239:\tlearn: 0.6708538\ttotal: 1.96s\tremaining: 6.22s\n",
      "240:\tlearn: 0.6707769\ttotal: 1.97s\tremaining: 6.21s\n",
      "241:\tlearn: 0.6706984\ttotal: 1.98s\tremaining: 6.2s\n",
      "242:\tlearn: 0.6706324\ttotal: 1.99s\tremaining: 6.19s\n",
      "243:\tlearn: 0.6705491\ttotal: 1.99s\tremaining: 6.18s\n",
      "244:\tlearn: 0.6704595\ttotal: 2s\tremaining: 6.17s\n",
      "245:\tlearn: 0.6703888\ttotal: 2.01s\tremaining: 6.16s\n",
      "246:\tlearn: 0.6703205\ttotal: 2.02s\tremaining: 6.15s\n",
      "247:\tlearn: 0.6702441\ttotal: 2.03s\tremaining: 6.14s\n",
      "248:\tlearn: 0.6701880\ttotal: 2.03s\tremaining: 6.13s\n",
      "249:\tlearn: 0.6701421\ttotal: 2.04s\tremaining: 6.12s\n",
      "250:\tlearn: 0.6700897\ttotal: 2.05s\tremaining: 6.12s\n",
      "251:\tlearn: 0.6700134\ttotal: 2.06s\tremaining: 6.11s\n",
      "252:\tlearn: 0.6699363\ttotal: 2.06s\tremaining: 6.1s\n",
      "253:\tlearn: 0.6698737\ttotal: 2.07s\tremaining: 6.09s\n",
      "254:\tlearn: 0.6697981\ttotal: 2.08s\tremaining: 6.08s\n",
      "255:\tlearn: 0.6696905\ttotal: 2.09s\tremaining: 6.07s\n",
      "256:\tlearn: 0.6695962\ttotal: 2.09s\tremaining: 6.06s\n",
      "257:\tlearn: 0.6695158\ttotal: 2.1s\tremaining: 6.05s\n",
      "258:\tlearn: 0.6694394\ttotal: 2.11s\tremaining: 6.04s\n",
      "259:\tlearn: 0.6693230\ttotal: 2.12s\tremaining: 6.03s\n",
      "260:\tlearn: 0.6692651\ttotal: 2.13s\tremaining: 6.02s\n",
      "261:\tlearn: 0.6691477\ttotal: 2.13s\tremaining: 6.01s\n",
      "262:\tlearn: 0.6690454\ttotal: 2.14s\tremaining: 6s\n",
      "263:\tlearn: 0.6689877\ttotal: 2.15s\tremaining: 5.99s\n",
      "264:\tlearn: 0.6689138\ttotal: 2.16s\tremaining: 5.99s\n",
      "265:\tlearn: 0.6688705\ttotal: 2.17s\tremaining: 5.98s\n",
      "266:\tlearn: 0.6687927\ttotal: 2.17s\tremaining: 5.97s\n",
      "267:\tlearn: 0.6686957\ttotal: 2.18s\tremaining: 5.96s\n",
      "268:\tlearn: 0.6686080\ttotal: 2.19s\tremaining: 5.95s\n",
      "269:\tlearn: 0.6685350\ttotal: 2.2s\tremaining: 5.94s\n",
      "270:\tlearn: 0.6684286\ttotal: 2.21s\tremaining: 5.93s\n",
      "271:\tlearn: 0.6683485\ttotal: 2.21s\tremaining: 5.92s\n",
      "272:\tlearn: 0.6682785\ttotal: 2.22s\tremaining: 5.91s\n",
      "273:\tlearn: 0.6681980\ttotal: 2.23s\tremaining: 5.9s\n",
      "274:\tlearn: 0.6681082\ttotal: 2.23s\tremaining: 5.89s\n",
      "275:\tlearn: 0.6680375\ttotal: 2.24s\tremaining: 5.89s\n",
      "276:\tlearn: 0.6679428\ttotal: 2.25s\tremaining: 5.88s\n",
      "277:\tlearn: 0.6678540\ttotal: 2.26s\tremaining: 5.87s\n",
      "278:\tlearn: 0.6677797\ttotal: 2.27s\tremaining: 5.86s\n",
      "279:\tlearn: 0.6677423\ttotal: 2.27s\tremaining: 5.85s\n",
      "280:\tlearn: 0.6676787\ttotal: 2.28s\tremaining: 5.84s\n",
      "281:\tlearn: 0.6675633\ttotal: 2.29s\tremaining: 5.83s\n",
      "282:\tlearn: 0.6674693\ttotal: 2.3s\tremaining: 5.82s\n",
      "283:\tlearn: 0.6673800\ttotal: 2.31s\tremaining: 5.81s\n",
      "284:\tlearn: 0.6673438\ttotal: 2.31s\tremaining: 5.8s\n",
      "285:\tlearn: 0.6672648\ttotal: 2.32s\tremaining: 5.79s\n",
      "286:\tlearn: 0.6671707\ttotal: 2.33s\tremaining: 5.78s\n",
      "287:\tlearn: 0.6670883\ttotal: 2.33s\tremaining: 5.77s\n",
      "288:\tlearn: 0.6669963\ttotal: 2.34s\tremaining: 5.76s\n",
      "289:\tlearn: 0.6668922\ttotal: 2.35s\tremaining: 5.75s\n",
      "290:\tlearn: 0.6667757\ttotal: 2.36s\tremaining: 5.74s\n",
      "291:\tlearn: 0.6666732\ttotal: 2.37s\tremaining: 5.74s\n",
      "292:\tlearn: 0.6665866\ttotal: 2.37s\tremaining: 5.73s\n",
      "293:\tlearn: 0.6664817\ttotal: 2.38s\tremaining: 5.72s\n",
      "294:\tlearn: 0.6664066\ttotal: 2.39s\tremaining: 5.71s\n",
      "295:\tlearn: 0.6663224\ttotal: 2.4s\tremaining: 5.7s\n",
      "296:\tlearn: 0.6662502\ttotal: 2.4s\tremaining: 5.69s\n",
      "297:\tlearn: 0.6661765\ttotal: 2.41s\tremaining: 5.68s\n",
      "298:\tlearn: 0.6661123\ttotal: 2.42s\tremaining: 5.67s\n",
      "299:\tlearn: 0.6659933\ttotal: 2.43s\tremaining: 5.66s\n",
      "300:\tlearn: 0.6659050\ttotal: 2.43s\tremaining: 5.65s\n",
      "301:\tlearn: 0.6658160\ttotal: 2.44s\tremaining: 5.65s\n",
      "302:\tlearn: 0.6657467\ttotal: 2.46s\tremaining: 5.65s\n",
      "303:\tlearn: 0.6656354\ttotal: 2.46s\tremaining: 5.64s\n",
      "304:\tlearn: 0.6655657\ttotal: 2.47s\tremaining: 5.63s\n",
      "305:\tlearn: 0.6654731\ttotal: 2.48s\tremaining: 5.62s\n",
      "306:\tlearn: 0.6654014\ttotal: 2.49s\tremaining: 5.61s\n",
      "307:\tlearn: 0.6653442\ttotal: 2.49s\tremaining: 5.6s\n",
      "308:\tlearn: 0.6652762\ttotal: 2.5s\tremaining: 5.59s\n",
      "309:\tlearn: 0.6652108\ttotal: 2.51s\tremaining: 5.58s\n",
      "310:\tlearn: 0.6651525\ttotal: 2.52s\tremaining: 5.57s\n",
      "311:\tlearn: 0.6650702\ttotal: 2.52s\tremaining: 5.56s\n",
      "312:\tlearn: 0.6649971\ttotal: 2.53s\tremaining: 5.55s\n",
      "313:\tlearn: 0.6649083\ttotal: 2.54s\tremaining: 5.54s\n",
      "314:\tlearn: 0.6648433\ttotal: 2.54s\tremaining: 5.53s\n",
      "315:\tlearn: 0.6647634\ttotal: 2.55s\tremaining: 5.52s\n",
      "316:\tlearn: 0.6647056\ttotal: 2.56s\tremaining: 5.51s\n",
      "317:\tlearn: 0.6646059\ttotal: 2.57s\tremaining: 5.51s\n",
      "318:\tlearn: 0.6645422\ttotal: 2.58s\tremaining: 5.5s\n",
      "319:\tlearn: 0.6644576\ttotal: 2.58s\tremaining: 5.49s\n",
      "320:\tlearn: 0.6643417\ttotal: 2.59s\tremaining: 5.48s\n",
      "321:\tlearn: 0.6642799\ttotal: 2.6s\tremaining: 5.47s\n",
      "322:\tlearn: 0.6642057\ttotal: 2.6s\tremaining: 5.46s\n",
      "323:\tlearn: 0.6641320\ttotal: 2.61s\tremaining: 5.45s\n",
      "324:\tlearn: 0.6640293\ttotal: 2.62s\tremaining: 5.44s\n",
      "325:\tlearn: 0.6638870\ttotal: 2.63s\tremaining: 5.43s\n",
      "326:\tlearn: 0.6638106\ttotal: 2.63s\tremaining: 5.42s\n",
      "327:\tlearn: 0.6637425\ttotal: 2.65s\tremaining: 5.42s\n",
      "328:\tlearn: 0.6636690\ttotal: 2.65s\tremaining: 5.41s\n",
      "329:\tlearn: 0.6635957\ttotal: 2.66s\tremaining: 5.4s\n",
      "330:\tlearn: 0.6635179\ttotal: 2.67s\tremaining: 5.39s\n",
      "331:\tlearn: 0.6634162\ttotal: 2.67s\tremaining: 5.38s\n",
      "332:\tlearn: 0.6632945\ttotal: 2.68s\tremaining: 5.38s\n",
      "333:\tlearn: 0.6632232\ttotal: 2.69s\tremaining: 5.37s\n",
      "334:\tlearn: 0.6631491\ttotal: 2.7s\tremaining: 5.36s\n",
      "335:\tlearn: 0.6630890\ttotal: 2.71s\tremaining: 5.35s\n",
      "336:\tlearn: 0.6630294\ttotal: 2.71s\tremaining: 5.34s\n",
      "337:\tlearn: 0.6629662\ttotal: 2.72s\tremaining: 5.33s\n",
      "338:\tlearn: 0.6628930\ttotal: 2.73s\tremaining: 5.32s\n",
      "339:\tlearn: 0.6628236\ttotal: 2.73s\tremaining: 5.31s\n",
      "340:\tlearn: 0.6627562\ttotal: 2.74s\tremaining: 5.3s\n",
      "341:\tlearn: 0.6626920\ttotal: 2.75s\tremaining: 5.29s\n",
      "342:\tlearn: 0.6625961\ttotal: 2.76s\tremaining: 5.28s\n",
      "343:\tlearn: 0.6625051\ttotal: 2.77s\tremaining: 5.28s\n",
      "344:\tlearn: 0.6624316\ttotal: 2.77s\tremaining: 5.27s\n",
      "345:\tlearn: 0.6623185\ttotal: 2.78s\tremaining: 5.26s\n",
      "346:\tlearn: 0.6622586\ttotal: 2.79s\tremaining: 5.25s\n",
      "347:\tlearn: 0.6621742\ttotal: 2.8s\tremaining: 5.24s\n",
      "348:\tlearn: 0.6621012\ttotal: 2.8s\tremaining: 5.23s\n",
      "349:\tlearn: 0.6620200\ttotal: 2.81s\tremaining: 5.22s\n",
      "350:\tlearn: 0.6618927\ttotal: 2.82s\tremaining: 5.21s\n",
      "351:\tlearn: 0.6618120\ttotal: 2.83s\tremaining: 5.2s\n",
      "352:\tlearn: 0.6617126\ttotal: 2.83s\tremaining: 5.2s\n",
      "353:\tlearn: 0.6616295\ttotal: 2.84s\tremaining: 5.19s\n",
      "354:\tlearn: 0.6615165\ttotal: 2.85s\tremaining: 5.18s\n",
      "355:\tlearn: 0.6614295\ttotal: 2.86s\tremaining: 5.17s\n",
      "356:\tlearn: 0.6613102\ttotal: 2.87s\tremaining: 5.17s\n",
      "357:\tlearn: 0.6612372\ttotal: 2.88s\tremaining: 5.16s\n",
      "358:\tlearn: 0.6611505\ttotal: 2.88s\tremaining: 5.15s\n",
      "359:\tlearn: 0.6610303\ttotal: 2.89s\tremaining: 5.14s\n",
      "360:\tlearn: 0.6609659\ttotal: 2.9s\tremaining: 5.13s\n",
      "361:\tlearn: 0.6608970\ttotal: 2.9s\tremaining: 5.12s\n",
      "362:\tlearn: 0.6607978\ttotal: 2.91s\tremaining: 5.11s\n",
      "363:\tlearn: 0.6607199\ttotal: 2.92s\tremaining: 5.1s\n",
      "364:\tlearn: 0.6606554\ttotal: 2.93s\tremaining: 5.09s\n",
      "365:\tlearn: 0.6605718\ttotal: 2.94s\tremaining: 5.08s\n",
      "366:\tlearn: 0.6604865\ttotal: 2.94s\tremaining: 5.08s\n",
      "367:\tlearn: 0.6604190\ttotal: 2.95s\tremaining: 5.07s\n",
      "368:\tlearn: 0.6603321\ttotal: 2.96s\tremaining: 5.06s\n",
      "369:\tlearn: 0.6602673\ttotal: 2.96s\tremaining: 5.05s\n",
      "370:\tlearn: 0.6601797\ttotal: 2.97s\tremaining: 5.04s\n",
      "371:\tlearn: 0.6600809\ttotal: 2.98s\tremaining: 5.03s\n",
      "372:\tlearn: 0.6599730\ttotal: 2.99s\tremaining: 5.02s\n",
      "373:\tlearn: 0.6598819\ttotal: 3s\tremaining: 5.01s\n",
      "374:\tlearn: 0.6597764\ttotal: 3s\tremaining: 5s\n",
      "375:\tlearn: 0.6596973\ttotal: 3.01s\tremaining: 5s\n",
      "376:\tlearn: 0.6595689\ttotal: 3.02s\tremaining: 4.99s\n",
      "377:\tlearn: 0.6594803\ttotal: 3.03s\tremaining: 4.98s\n",
      "378:\tlearn: 0.6593557\ttotal: 3.03s\tremaining: 4.97s\n",
      "379:\tlearn: 0.6592538\ttotal: 3.04s\tremaining: 4.96s\n",
      "380:\tlearn: 0.6591461\ttotal: 3.05s\tremaining: 4.96s\n",
      "381:\tlearn: 0.6590438\ttotal: 3.06s\tremaining: 4.95s\n",
      "382:\tlearn: 0.6589198\ttotal: 3.06s\tremaining: 4.94s\n",
      "383:\tlearn: 0.6588113\ttotal: 3.07s\tremaining: 4.93s\n",
      "384:\tlearn: 0.6587430\ttotal: 3.08s\tremaining: 4.92s\n",
      "385:\tlearn: 0.6586899\ttotal: 3.09s\tremaining: 4.91s\n",
      "386:\tlearn: 0.6585737\ttotal: 3.09s\tremaining: 4.9s\n",
      "387:\tlearn: 0.6584557\ttotal: 3.1s\tremaining: 4.89s\n",
      "388:\tlearn: 0.6583883\ttotal: 3.11s\tremaining: 4.88s\n",
      "389:\tlearn: 0.6583027\ttotal: 3.12s\tremaining: 4.88s\n",
      "390:\tlearn: 0.6582086\ttotal: 3.12s\tremaining: 4.87s\n",
      "391:\tlearn: 0.6581111\ttotal: 3.13s\tremaining: 4.86s\n",
      "392:\tlearn: 0.6580268\ttotal: 3.14s\tremaining: 4.85s\n",
      "393:\tlearn: 0.6579213\ttotal: 3.15s\tremaining: 4.84s\n",
      "394:\tlearn: 0.6578183\ttotal: 3.15s\tremaining: 4.83s\n",
      "395:\tlearn: 0.6576988\ttotal: 3.16s\tremaining: 4.82s\n",
      "396:\tlearn: 0.6575689\ttotal: 3.17s\tremaining: 4.81s\n",
      "397:\tlearn: 0.6575005\ttotal: 3.17s\tremaining: 4.8s\n",
      "398:\tlearn: 0.6574437\ttotal: 3.18s\tremaining: 4.79s\n",
      "399:\tlearn: 0.6573521\ttotal: 3.19s\tremaining: 4.79s\n",
      "400:\tlearn: 0.6572450\ttotal: 3.2s\tremaining: 4.78s\n",
      "401:\tlearn: 0.6571570\ttotal: 3.21s\tremaining: 4.77s\n",
      "402:\tlearn: 0.6570495\ttotal: 3.21s\tremaining: 4.76s\n",
      "403:\tlearn: 0.6569497\ttotal: 3.22s\tremaining: 4.75s\n",
      "404:\tlearn: 0.6568729\ttotal: 3.23s\tremaining: 4.74s\n",
      "405:\tlearn: 0.6568127\ttotal: 3.24s\tremaining: 4.74s\n",
      "406:\tlearn: 0.6567096\ttotal: 3.25s\tremaining: 4.73s\n",
      "407:\tlearn: 0.6565916\ttotal: 3.25s\tremaining: 4.72s\n",
      "408:\tlearn: 0.6565064\ttotal: 3.26s\tremaining: 4.71s\n",
      "409:\tlearn: 0.6564338\ttotal: 3.27s\tremaining: 4.7s\n",
      "410:\tlearn: 0.6563493\ttotal: 3.27s\tremaining: 4.69s\n",
      "411:\tlearn: 0.6562679\ttotal: 3.28s\tremaining: 4.68s\n",
      "412:\tlearn: 0.6561740\ttotal: 3.29s\tremaining: 4.67s\n",
      "413:\tlearn: 0.6560542\ttotal: 3.3s\tremaining: 4.67s\n",
      "414:\tlearn: 0.6559496\ttotal: 3.3s\tremaining: 4.66s\n",
      "415:\tlearn: 0.6558290\ttotal: 3.31s\tremaining: 4.65s\n",
      "416:\tlearn: 0.6557470\ttotal: 3.32s\tremaining: 4.64s\n",
      "417:\tlearn: 0.6556505\ttotal: 3.33s\tremaining: 4.63s\n",
      "418:\tlearn: 0.6555648\ttotal: 3.33s\tremaining: 4.62s\n",
      "419:\tlearn: 0.6554807\ttotal: 3.34s\tremaining: 4.61s\n",
      "420:\tlearn: 0.6553868\ttotal: 3.35s\tremaining: 4.61s\n",
      "421:\tlearn: 0.6552999\ttotal: 3.36s\tremaining: 4.6s\n",
      "422:\tlearn: 0.6552030\ttotal: 3.36s\tremaining: 4.59s\n",
      "423:\tlearn: 0.6550890\ttotal: 3.37s\tremaining: 4.58s\n",
      "424:\tlearn: 0.6550230\ttotal: 3.38s\tremaining: 4.57s\n",
      "425:\tlearn: 0.6549474\ttotal: 3.38s\tremaining: 4.56s\n",
      "426:\tlearn: 0.6548528\ttotal: 3.39s\tremaining: 4.55s\n",
      "427:\tlearn: 0.6547309\ttotal: 3.4s\tremaining: 4.54s\n",
      "428:\tlearn: 0.6546578\ttotal: 3.41s\tremaining: 4.53s\n",
      "429:\tlearn: 0.6545381\ttotal: 3.42s\tremaining: 4.53s\n",
      "430:\tlearn: 0.6544802\ttotal: 3.42s\tremaining: 4.52s\n",
      "431:\tlearn: 0.6543901\ttotal: 3.43s\tremaining: 4.51s\n",
      "432:\tlearn: 0.6542944\ttotal: 3.44s\tremaining: 4.5s\n",
      "433:\tlearn: 0.6541893\ttotal: 3.44s\tremaining: 4.49s\n",
      "434:\tlearn: 0.6540851\ttotal: 3.45s\tremaining: 4.48s\n",
      "435:\tlearn: 0.6539734\ttotal: 3.46s\tremaining: 4.48s\n",
      "436:\tlearn: 0.6538446\ttotal: 3.47s\tremaining: 4.47s\n",
      "437:\tlearn: 0.6537694\ttotal: 3.48s\tremaining: 4.46s\n",
      "438:\tlearn: 0.6536364\ttotal: 3.48s\tremaining: 4.45s\n",
      "439:\tlearn: 0.6535369\ttotal: 3.49s\tremaining: 4.44s\n",
      "440:\tlearn: 0.6533719\ttotal: 3.5s\tremaining: 4.43s\n",
      "441:\tlearn: 0.6532844\ttotal: 3.51s\tremaining: 4.43s\n",
      "442:\tlearn: 0.6532123\ttotal: 3.51s\tremaining: 4.42s\n",
      "443:\tlearn: 0.6531490\ttotal: 3.52s\tremaining: 4.41s\n",
      "444:\tlearn: 0.6530523\ttotal: 3.53s\tremaining: 4.4s\n",
      "445:\tlearn: 0.6529725\ttotal: 3.53s\tremaining: 4.39s\n",
      "446:\tlearn: 0.6528960\ttotal: 3.54s\tremaining: 4.38s\n",
      "447:\tlearn: 0.6528164\ttotal: 3.55s\tremaining: 4.37s\n",
      "448:\tlearn: 0.6527341\ttotal: 3.56s\tremaining: 4.36s\n",
      "449:\tlearn: 0.6526609\ttotal: 3.56s\tremaining: 4.36s\n",
      "450:\tlearn: 0.6524956\ttotal: 3.57s\tremaining: 4.35s\n",
      "451:\tlearn: 0.6523980\ttotal: 3.58s\tremaining: 4.34s\n",
      "452:\tlearn: 0.6522891\ttotal: 3.59s\tremaining: 4.33s\n",
      "453:\tlearn: 0.6521687\ttotal: 3.59s\tremaining: 4.32s\n",
      "454:\tlearn: 0.6520273\ttotal: 3.6s\tremaining: 4.32s\n",
      "455:\tlearn: 0.6519472\ttotal: 3.61s\tremaining: 4.31s\n",
      "456:\tlearn: 0.6518190\ttotal: 3.62s\tremaining: 4.3s\n",
      "457:\tlearn: 0.6516996\ttotal: 3.63s\tremaining: 4.29s\n",
      "458:\tlearn: 0.6516158\ttotal: 3.63s\tremaining: 4.28s\n",
      "459:\tlearn: 0.6515563\ttotal: 3.64s\tremaining: 4.27s\n",
      "460:\tlearn: 0.6514851\ttotal: 3.65s\tremaining: 4.26s\n",
      "461:\tlearn: 0.6513729\ttotal: 3.65s\tremaining: 4.26s\n",
      "462:\tlearn: 0.6512950\ttotal: 3.66s\tremaining: 4.25s\n",
      "463:\tlearn: 0.6512230\ttotal: 3.67s\tremaining: 4.24s\n",
      "464:\tlearn: 0.6511556\ttotal: 3.68s\tremaining: 4.23s\n",
      "465:\tlearn: 0.6510893\ttotal: 3.69s\tremaining: 4.22s\n",
      "466:\tlearn: 0.6510143\ttotal: 3.69s\tremaining: 4.21s\n",
      "467:\tlearn: 0.6509486\ttotal: 3.7s\tremaining: 4.21s\n",
      "468:\tlearn: 0.6508508\ttotal: 3.71s\tremaining: 4.2s\n",
      "469:\tlearn: 0.6507330\ttotal: 3.71s\tremaining: 4.19s\n",
      "470:\tlearn: 0.6506333\ttotal: 3.72s\tremaining: 4.18s\n",
      "471:\tlearn: 0.6505638\ttotal: 3.73s\tremaining: 4.17s\n",
      "472:\tlearn: 0.6504421\ttotal: 3.74s\tremaining: 4.17s\n",
      "473:\tlearn: 0.6503679\ttotal: 3.75s\tremaining: 4.16s\n",
      "474:\tlearn: 0.6502401\ttotal: 3.75s\tremaining: 4.15s\n",
      "475:\tlearn: 0.6501565\ttotal: 3.76s\tremaining: 4.14s\n",
      "476:\tlearn: 0.6500645\ttotal: 3.77s\tremaining: 4.13s\n",
      "477:\tlearn: 0.6499788\ttotal: 3.78s\tremaining: 4.12s\n",
      "478:\tlearn: 0.6498938\ttotal: 3.78s\tremaining: 4.12s\n",
      "479:\tlearn: 0.6498151\ttotal: 3.79s\tremaining: 4.11s\n",
      "480:\tlearn: 0.6497321\ttotal: 3.8s\tremaining: 4.1s\n",
      "481:\tlearn: 0.6496191\ttotal: 3.81s\tremaining: 4.09s\n",
      "482:\tlearn: 0.6494907\ttotal: 3.81s\tremaining: 4.08s\n",
      "483:\tlearn: 0.6493798\ttotal: 3.82s\tremaining: 4.08s\n",
      "484:\tlearn: 0.6493016\ttotal: 3.83s\tremaining: 4.07s\n",
      "485:\tlearn: 0.6492163\ttotal: 3.84s\tremaining: 4.06s\n",
      "486:\tlearn: 0.6491129\ttotal: 3.85s\tremaining: 4.05s\n",
      "487:\tlearn: 0.6489975\ttotal: 3.85s\tremaining: 4.04s\n",
      "488:\tlearn: 0.6489259\ttotal: 3.86s\tremaining: 4.04s\n",
      "489:\tlearn: 0.6488152\ttotal: 3.87s\tremaining: 4.03s\n",
      "490:\tlearn: 0.6487562\ttotal: 3.88s\tremaining: 4.02s\n",
      "491:\tlearn: 0.6486290\ttotal: 3.88s\tremaining: 4.01s\n",
      "492:\tlearn: 0.6484933\ttotal: 3.89s\tremaining: 4s\n",
      "493:\tlearn: 0.6484085\ttotal: 3.9s\tremaining: 3.99s\n",
      "494:\tlearn: 0.6483406\ttotal: 3.91s\tremaining: 3.99s\n",
      "495:\tlearn: 0.6482285\ttotal: 3.92s\tremaining: 3.98s\n",
      "496:\tlearn: 0.6480477\ttotal: 3.92s\tremaining: 3.97s\n",
      "497:\tlearn: 0.6478964\ttotal: 3.93s\tremaining: 3.96s\n",
      "498:\tlearn: 0.6478027\ttotal: 3.94s\tremaining: 3.95s\n",
      "499:\tlearn: 0.6477024\ttotal: 3.95s\tremaining: 3.95s\n",
      "500:\tlearn: 0.6476083\ttotal: 3.95s\tremaining: 3.94s\n",
      "501:\tlearn: 0.6475430\ttotal: 3.96s\tremaining: 3.93s\n",
      "502:\tlearn: 0.6474777\ttotal: 3.97s\tremaining: 3.92s\n",
      "503:\tlearn: 0.6473682\ttotal: 3.98s\tremaining: 3.91s\n",
      "504:\tlearn: 0.6472959\ttotal: 3.98s\tremaining: 3.9s\n",
      "505:\tlearn: 0.6471804\ttotal: 3.99s\tremaining: 3.9s\n",
      "506:\tlearn: 0.6470798\ttotal: 4s\tremaining: 3.89s\n",
      "507:\tlearn: 0.6469831\ttotal: 4s\tremaining: 3.88s\n",
      "508:\tlearn: 0.6469254\ttotal: 4.01s\tremaining: 3.87s\n",
      "509:\tlearn: 0.6468335\ttotal: 4.02s\tremaining: 3.86s\n",
      "510:\tlearn: 0.6467266\ttotal: 4.03s\tremaining: 3.86s\n",
      "511:\tlearn: 0.6466141\ttotal: 4.04s\tremaining: 3.85s\n",
      "512:\tlearn: 0.6464709\ttotal: 4.04s\tremaining: 3.84s\n",
      "513:\tlearn: 0.6463545\ttotal: 4.05s\tremaining: 3.83s\n",
      "514:\tlearn: 0.6462787\ttotal: 4.06s\tremaining: 3.82s\n",
      "515:\tlearn: 0.6461748\ttotal: 4.07s\tremaining: 3.81s\n",
      "516:\tlearn: 0.6460659\ttotal: 4.08s\tremaining: 3.81s\n",
      "517:\tlearn: 0.6459576\ttotal: 4.08s\tremaining: 3.8s\n",
      "518:\tlearn: 0.6458828\ttotal: 4.09s\tremaining: 3.79s\n",
      "519:\tlearn: 0.6458090\ttotal: 4.1s\tremaining: 3.78s\n",
      "520:\tlearn: 0.6457248\ttotal: 4.1s\tremaining: 3.77s\n",
      "521:\tlearn: 0.6456257\ttotal: 4.11s\tremaining: 3.77s\n",
      "522:\tlearn: 0.6454923\ttotal: 4.12s\tremaining: 3.76s\n",
      "523:\tlearn: 0.6454162\ttotal: 4.13s\tremaining: 3.75s\n",
      "524:\tlearn: 0.6453147\ttotal: 4.13s\tremaining: 3.74s\n",
      "525:\tlearn: 0.6452343\ttotal: 4.14s\tremaining: 3.73s\n",
      "526:\tlearn: 0.6451415\ttotal: 4.15s\tremaining: 3.72s\n",
      "527:\tlearn: 0.6450059\ttotal: 4.16s\tremaining: 3.71s\n",
      "528:\tlearn: 0.6448654\ttotal: 4.16s\tremaining: 3.71s\n",
      "529:\tlearn: 0.6447894\ttotal: 4.17s\tremaining: 3.7s\n",
      "530:\tlearn: 0.6446872\ttotal: 4.18s\tremaining: 3.69s\n",
      "531:\tlearn: 0.6445763\ttotal: 4.19s\tremaining: 3.68s\n",
      "532:\tlearn: 0.6444996\ttotal: 4.19s\tremaining: 3.67s\n",
      "533:\tlearn: 0.6443780\ttotal: 4.2s\tremaining: 3.67s\n",
      "534:\tlearn: 0.6443188\ttotal: 4.21s\tremaining: 3.66s\n",
      "535:\tlearn: 0.6442390\ttotal: 4.22s\tremaining: 3.65s\n",
      "536:\tlearn: 0.6441468\ttotal: 4.23s\tremaining: 3.65s\n",
      "537:\tlearn: 0.6440568\ttotal: 4.24s\tremaining: 3.64s\n",
      "538:\tlearn: 0.6439648\ttotal: 4.24s\tremaining: 3.63s\n",
      "539:\tlearn: 0.6438885\ttotal: 4.25s\tremaining: 3.62s\n",
      "540:\tlearn: 0.6438064\ttotal: 4.26s\tremaining: 3.61s\n",
      "541:\tlearn: 0.6437275\ttotal: 4.26s\tremaining: 3.6s\n",
      "542:\tlearn: 0.6436341\ttotal: 4.27s\tremaining: 3.6s\n",
      "543:\tlearn: 0.6435467\ttotal: 4.28s\tremaining: 3.59s\n",
      "544:\tlearn: 0.6434518\ttotal: 4.29s\tremaining: 3.58s\n",
      "545:\tlearn: 0.6433783\ttotal: 4.29s\tremaining: 3.57s\n",
      "546:\tlearn: 0.6432883\ttotal: 4.3s\tremaining: 3.56s\n",
      "547:\tlearn: 0.6431783\ttotal: 4.31s\tremaining: 3.55s\n",
      "548:\tlearn: 0.6430985\ttotal: 4.32s\tremaining: 3.54s\n",
      "549:\tlearn: 0.6430255\ttotal: 4.32s\tremaining: 3.54s\n",
      "550:\tlearn: 0.6429758\ttotal: 4.33s\tremaining: 3.53s\n",
      "551:\tlearn: 0.6428579\ttotal: 4.34s\tremaining: 3.52s\n",
      "552:\tlearn: 0.6427745\ttotal: 4.35s\tremaining: 3.51s\n",
      "553:\tlearn: 0.6426250\ttotal: 4.35s\tremaining: 3.5s\n",
      "554:\tlearn: 0.6425120\ttotal: 4.36s\tremaining: 3.5s\n",
      "555:\tlearn: 0.6424259\ttotal: 4.37s\tremaining: 3.49s\n",
      "556:\tlearn: 0.6423318\ttotal: 4.38s\tremaining: 3.48s\n",
      "557:\tlearn: 0.6422435\ttotal: 4.38s\tremaining: 3.47s\n",
      "558:\tlearn: 0.6421781\ttotal: 4.39s\tremaining: 3.46s\n",
      "559:\tlearn: 0.6420537\ttotal: 4.4s\tremaining: 3.46s\n",
      "560:\tlearn: 0.6419816\ttotal: 4.41s\tremaining: 3.45s\n",
      "561:\tlearn: 0.6418774\ttotal: 4.42s\tremaining: 3.44s\n",
      "562:\tlearn: 0.6418078\ttotal: 4.43s\tremaining: 3.44s\n",
      "563:\tlearn: 0.6417330\ttotal: 4.43s\tremaining: 3.43s\n",
      "564:\tlearn: 0.6416631\ttotal: 4.44s\tremaining: 3.42s\n",
      "565:\tlearn: 0.6415549\ttotal: 4.45s\tremaining: 3.41s\n",
      "566:\tlearn: 0.6414903\ttotal: 4.46s\tremaining: 3.4s\n",
      "567:\tlearn: 0.6414206\ttotal: 4.46s\tremaining: 3.4s\n",
      "568:\tlearn: 0.6413180\ttotal: 4.47s\tremaining: 3.39s\n",
      "569:\tlearn: 0.6412377\ttotal: 4.48s\tremaining: 3.38s\n",
      "570:\tlearn: 0.6411491\ttotal: 4.49s\tremaining: 3.37s\n",
      "571:\tlearn: 0.6410423\ttotal: 4.49s\tremaining: 3.36s\n",
      "572:\tlearn: 0.6409109\ttotal: 4.5s\tremaining: 3.35s\n",
      "573:\tlearn: 0.6408494\ttotal: 4.51s\tremaining: 3.35s\n",
      "574:\tlearn: 0.6407497\ttotal: 4.52s\tremaining: 3.34s\n",
      "575:\tlearn: 0.6406381\ttotal: 4.53s\tremaining: 3.33s\n",
      "576:\tlearn: 0.6405252\ttotal: 4.53s\tremaining: 3.32s\n",
      "577:\tlearn: 0.6404267\ttotal: 4.54s\tremaining: 3.31s\n",
      "578:\tlearn: 0.6403505\ttotal: 4.55s\tremaining: 3.31s\n",
      "579:\tlearn: 0.6402904\ttotal: 4.56s\tremaining: 3.3s\n",
      "580:\tlearn: 0.6401779\ttotal: 4.56s\tremaining: 3.29s\n",
      "581:\tlearn: 0.6401210\ttotal: 4.57s\tremaining: 3.28s\n",
      "582:\tlearn: 0.6399976\ttotal: 4.58s\tremaining: 3.27s\n",
      "583:\tlearn: 0.6398866\ttotal: 4.59s\tremaining: 3.27s\n",
      "584:\tlearn: 0.6398134\ttotal: 4.59s\tremaining: 3.26s\n",
      "585:\tlearn: 0.6397579\ttotal: 4.6s\tremaining: 3.25s\n",
      "586:\tlearn: 0.6396418\ttotal: 4.61s\tremaining: 3.24s\n",
      "587:\tlearn: 0.6395519\ttotal: 4.62s\tremaining: 3.23s\n",
      "588:\tlearn: 0.6394548\ttotal: 4.63s\tremaining: 3.23s\n",
      "589:\tlearn: 0.6394034\ttotal: 4.63s\tremaining: 3.22s\n",
      "590:\tlearn: 0.6392858\ttotal: 4.64s\tremaining: 3.21s\n",
      "591:\tlearn: 0.6391684\ttotal: 4.65s\tremaining: 3.2s\n",
      "592:\tlearn: 0.6390615\ttotal: 4.66s\tremaining: 3.19s\n",
      "593:\tlearn: 0.6389475\ttotal: 4.66s\tremaining: 3.19s\n",
      "594:\tlearn: 0.6388485\ttotal: 4.67s\tremaining: 3.18s\n",
      "595:\tlearn: 0.6387880\ttotal: 4.68s\tremaining: 3.17s\n",
      "596:\tlearn: 0.6387404\ttotal: 4.68s\tremaining: 3.16s\n",
      "597:\tlearn: 0.6386343\ttotal: 4.69s\tremaining: 3.15s\n",
      "598:\tlearn: 0.6385554\ttotal: 4.7s\tremaining: 3.15s\n",
      "599:\tlearn: 0.6384579\ttotal: 4.71s\tremaining: 3.14s\n",
      "600:\tlearn: 0.6384008\ttotal: 4.71s\tremaining: 3.13s\n",
      "601:\tlearn: 0.6383363\ttotal: 4.72s\tremaining: 3.12s\n",
      "602:\tlearn: 0.6382727\ttotal: 4.73s\tremaining: 3.11s\n",
      "603:\tlearn: 0.6382096\ttotal: 4.74s\tremaining: 3.11s\n",
      "604:\tlearn: 0.6381210\ttotal: 4.75s\tremaining: 3.1s\n",
      "605:\tlearn: 0.6380052\ttotal: 4.75s\tremaining: 3.09s\n",
      "606:\tlearn: 0.6379297\ttotal: 4.76s\tremaining: 3.08s\n",
      "607:\tlearn: 0.6378489\ttotal: 4.77s\tremaining: 3.07s\n",
      "608:\tlearn: 0.6377563\ttotal: 4.78s\tremaining: 3.07s\n",
      "609:\tlearn: 0.6376664\ttotal: 4.78s\tremaining: 3.06s\n",
      "610:\tlearn: 0.6375324\ttotal: 4.79s\tremaining: 3.05s\n",
      "611:\tlearn: 0.6374414\ttotal: 4.8s\tremaining: 3.04s\n",
      "612:\tlearn: 0.6373136\ttotal: 4.81s\tremaining: 3.04s\n",
      "613:\tlearn: 0.6372013\ttotal: 4.82s\tremaining: 3.03s\n",
      "614:\tlearn: 0.6371359\ttotal: 4.83s\tremaining: 3.02s\n",
      "615:\tlearn: 0.6370356\ttotal: 4.83s\tremaining: 3.01s\n",
      "616:\tlearn: 0.6369272\ttotal: 4.84s\tremaining: 3s\n",
      "617:\tlearn: 0.6368247\ttotal: 4.85s\tremaining: 3s\n",
      "618:\tlearn: 0.6367579\ttotal: 4.86s\tremaining: 2.99s\n",
      "619:\tlearn: 0.6366423\ttotal: 4.87s\tremaining: 2.98s\n",
      "620:\tlearn: 0.6365310\ttotal: 4.87s\tremaining: 2.97s\n",
      "621:\tlearn: 0.6364522\ttotal: 4.88s\tremaining: 2.97s\n",
      "622:\tlearn: 0.6363504\ttotal: 4.89s\tremaining: 2.96s\n",
      "623:\tlearn: 0.6363033\ttotal: 4.9s\tremaining: 2.95s\n",
      "624:\tlearn: 0.6362444\ttotal: 4.9s\tremaining: 2.94s\n",
      "625:\tlearn: 0.6361488\ttotal: 4.91s\tremaining: 2.93s\n",
      "626:\tlearn: 0.6360988\ttotal: 4.92s\tremaining: 2.93s\n",
      "627:\tlearn: 0.6360246\ttotal: 4.93s\tremaining: 2.92s\n",
      "628:\tlearn: 0.6359334\ttotal: 4.93s\tremaining: 2.91s\n",
      "629:\tlearn: 0.6358605\ttotal: 4.94s\tremaining: 2.9s\n",
      "630:\tlearn: 0.6357870\ttotal: 4.95s\tremaining: 2.89s\n",
      "631:\tlearn: 0.6356953\ttotal: 4.96s\tremaining: 2.88s\n",
      "632:\tlearn: 0.6356114\ttotal: 4.96s\tremaining: 2.88s\n",
      "633:\tlearn: 0.6355050\ttotal: 4.97s\tremaining: 2.87s\n",
      "634:\tlearn: 0.6354099\ttotal: 4.98s\tremaining: 2.86s\n",
      "635:\tlearn: 0.6353298\ttotal: 4.99s\tremaining: 2.85s\n",
      "636:\tlearn: 0.6352376\ttotal: 4.99s\tremaining: 2.85s\n",
      "637:\tlearn: 0.6351492\ttotal: 5s\tremaining: 2.84s\n",
      "638:\tlearn: 0.6350777\ttotal: 5.01s\tremaining: 2.83s\n",
      "639:\tlearn: 0.6350165\ttotal: 5.02s\tremaining: 2.82s\n",
      "640:\tlearn: 0.6348752\ttotal: 5.03s\tremaining: 2.81s\n",
      "641:\tlearn: 0.6347874\ttotal: 5.03s\tremaining: 2.81s\n",
      "642:\tlearn: 0.6346686\ttotal: 5.04s\tremaining: 2.8s\n",
      "643:\tlearn: 0.6345650\ttotal: 5.05s\tremaining: 2.79s\n",
      "644:\tlearn: 0.6344463\ttotal: 5.06s\tremaining: 2.78s\n",
      "645:\tlearn: 0.6343766\ttotal: 5.06s\tremaining: 2.77s\n",
      "646:\tlearn: 0.6343236\ttotal: 5.07s\tremaining: 2.77s\n",
      "647:\tlearn: 0.6342757\ttotal: 5.08s\tremaining: 2.76s\n",
      "648:\tlearn: 0.6342010\ttotal: 5.08s\tremaining: 2.75s\n",
      "649:\tlearn: 0.6340848\ttotal: 5.09s\tremaining: 2.74s\n",
      "650:\tlearn: 0.6339968\ttotal: 5.1s\tremaining: 2.73s\n",
      "651:\tlearn: 0.6338617\ttotal: 5.11s\tremaining: 2.73s\n",
      "652:\tlearn: 0.6337978\ttotal: 5.12s\tremaining: 2.72s\n",
      "653:\tlearn: 0.6337491\ttotal: 5.12s\tremaining: 2.71s\n",
      "654:\tlearn: 0.6336517\ttotal: 5.13s\tremaining: 2.7s\n",
      "655:\tlearn: 0.6335784\ttotal: 5.14s\tremaining: 2.69s\n",
      "656:\tlearn: 0.6334994\ttotal: 5.15s\tremaining: 2.69s\n",
      "657:\tlearn: 0.6334089\ttotal: 5.15s\tremaining: 2.68s\n",
      "658:\tlearn: 0.6333121\ttotal: 5.16s\tremaining: 2.67s\n",
      "659:\tlearn: 0.6332445\ttotal: 5.17s\tremaining: 2.66s\n",
      "660:\tlearn: 0.6331387\ttotal: 5.18s\tremaining: 2.65s\n",
      "661:\tlearn: 0.6330783\ttotal: 5.18s\tremaining: 2.65s\n",
      "662:\tlearn: 0.6329847\ttotal: 5.19s\tremaining: 2.64s\n",
      "663:\tlearn: 0.6329236\ttotal: 5.2s\tremaining: 2.63s\n",
      "664:\tlearn: 0.6328541\ttotal: 5.21s\tremaining: 2.62s\n",
      "665:\tlearn: 0.6327539\ttotal: 5.21s\tremaining: 2.62s\n",
      "666:\tlearn: 0.6326695\ttotal: 5.22s\tremaining: 2.61s\n",
      "667:\tlearn: 0.6326090\ttotal: 5.23s\tremaining: 2.6s\n",
      "668:\tlearn: 0.6325223\ttotal: 5.24s\tremaining: 2.59s\n",
      "669:\tlearn: 0.6324452\ttotal: 5.25s\tremaining: 2.58s\n",
      "670:\tlearn: 0.6323908\ttotal: 5.25s\tremaining: 2.58s\n",
      "671:\tlearn: 0.6322657\ttotal: 5.26s\tremaining: 2.57s\n",
      "672:\tlearn: 0.6321711\ttotal: 5.27s\tremaining: 2.56s\n",
      "673:\tlearn: 0.6321002\ttotal: 5.27s\tremaining: 2.55s\n",
      "674:\tlearn: 0.6320285\ttotal: 5.28s\tremaining: 2.54s\n",
      "675:\tlearn: 0.6319539\ttotal: 5.29s\tremaining: 2.54s\n",
      "676:\tlearn: 0.6318521\ttotal: 5.3s\tremaining: 2.53s\n",
      "677:\tlearn: 0.6317687\ttotal: 5.3s\tremaining: 2.52s\n",
      "678:\tlearn: 0.6316874\ttotal: 5.31s\tremaining: 2.51s\n",
      "679:\tlearn: 0.6316097\ttotal: 5.32s\tremaining: 2.5s\n",
      "680:\tlearn: 0.6315121\ttotal: 5.33s\tremaining: 2.5s\n",
      "681:\tlearn: 0.6314133\ttotal: 5.33s\tremaining: 2.49s\n",
      "682:\tlearn: 0.6313154\ttotal: 5.34s\tremaining: 2.48s\n",
      "683:\tlearn: 0.6312167\ttotal: 5.35s\tremaining: 2.47s\n",
      "684:\tlearn: 0.6311479\ttotal: 5.36s\tremaining: 2.46s\n",
      "685:\tlearn: 0.6310234\ttotal: 5.37s\tremaining: 2.46s\n",
      "686:\tlearn: 0.6309375\ttotal: 5.37s\tremaining: 2.45s\n",
      "687:\tlearn: 0.6308528\ttotal: 5.38s\tremaining: 2.44s\n",
      "688:\tlearn: 0.6307439\ttotal: 5.39s\tremaining: 2.43s\n",
      "689:\tlearn: 0.6306696\ttotal: 5.39s\tremaining: 2.42s\n",
      "690:\tlearn: 0.6305681\ttotal: 5.4s\tremaining: 2.42s\n",
      "691:\tlearn: 0.6304859\ttotal: 5.41s\tremaining: 2.41s\n",
      "692:\tlearn: 0.6303844\ttotal: 5.42s\tremaining: 2.4s\n",
      "693:\tlearn: 0.6302835\ttotal: 5.43s\tremaining: 2.4s\n",
      "694:\tlearn: 0.6302128\ttotal: 5.44s\tremaining: 2.39s\n",
      "695:\tlearn: 0.6301635\ttotal: 5.45s\tremaining: 2.38s\n",
      "696:\tlearn: 0.6300680\ttotal: 5.46s\tremaining: 2.37s\n",
      "697:\tlearn: 0.6299852\ttotal: 5.46s\tremaining: 2.36s\n",
      "698:\tlearn: 0.6299108\ttotal: 5.47s\tremaining: 2.36s\n",
      "699:\tlearn: 0.6298138\ttotal: 5.48s\tremaining: 2.35s\n",
      "700:\tlearn: 0.6297140\ttotal: 5.49s\tremaining: 2.34s\n",
      "701:\tlearn: 0.6296363\ttotal: 5.5s\tremaining: 2.33s\n",
      "702:\tlearn: 0.6295582\ttotal: 5.5s\tremaining: 2.33s\n",
      "703:\tlearn: 0.6294361\ttotal: 5.51s\tremaining: 2.32s\n",
      "704:\tlearn: 0.6293565\ttotal: 5.52s\tremaining: 2.31s\n",
      "705:\tlearn: 0.6292944\ttotal: 5.53s\tremaining: 2.3s\n",
      "706:\tlearn: 0.6292513\ttotal: 5.53s\tremaining: 2.29s\n",
      "707:\tlearn: 0.6291766\ttotal: 5.54s\tremaining: 2.29s\n",
      "708:\tlearn: 0.6290918\ttotal: 5.55s\tremaining: 2.28s\n",
      "709:\tlearn: 0.6290086\ttotal: 5.56s\tremaining: 2.27s\n",
      "710:\tlearn: 0.6289409\ttotal: 5.56s\tremaining: 2.26s\n",
      "711:\tlearn: 0.6288436\ttotal: 5.57s\tremaining: 2.25s\n",
      "712:\tlearn: 0.6287505\ttotal: 5.58s\tremaining: 2.25s\n",
      "713:\tlearn: 0.6286864\ttotal: 5.59s\tremaining: 2.24s\n",
      "714:\tlearn: 0.6285936\ttotal: 5.59s\tremaining: 2.23s\n",
      "715:\tlearn: 0.6285213\ttotal: 5.6s\tremaining: 2.22s\n",
      "716:\tlearn: 0.6284231\ttotal: 5.61s\tremaining: 2.21s\n",
      "717:\tlearn: 0.6283444\ttotal: 5.62s\tremaining: 2.21s\n",
      "718:\tlearn: 0.6282459\ttotal: 5.63s\tremaining: 2.2s\n",
      "719:\tlearn: 0.6281440\ttotal: 5.63s\tremaining: 2.19s\n",
      "720:\tlearn: 0.6280596\ttotal: 5.64s\tremaining: 2.18s\n",
      "721:\tlearn: 0.6279424\ttotal: 5.65s\tremaining: 2.18s\n",
      "722:\tlearn: 0.6278516\ttotal: 5.66s\tremaining: 2.17s\n",
      "723:\tlearn: 0.6277837\ttotal: 5.67s\tremaining: 2.16s\n",
      "724:\tlearn: 0.6276852\ttotal: 5.68s\tremaining: 2.15s\n",
      "725:\tlearn: 0.6276104\ttotal: 5.68s\tremaining: 2.15s\n",
      "726:\tlearn: 0.6275277\ttotal: 5.69s\tremaining: 2.14s\n",
      "727:\tlearn: 0.6274477\ttotal: 5.7s\tremaining: 2.13s\n",
      "728:\tlearn: 0.6273814\ttotal: 5.71s\tremaining: 2.12s\n",
      "729:\tlearn: 0.6272911\ttotal: 5.72s\tremaining: 2.11s\n",
      "730:\tlearn: 0.6272117\ttotal: 5.72s\tremaining: 2.11s\n",
      "731:\tlearn: 0.6271470\ttotal: 5.73s\tremaining: 2.1s\n",
      "732:\tlearn: 0.6270847\ttotal: 5.74s\tremaining: 2.09s\n",
      "733:\tlearn: 0.6270231\ttotal: 5.75s\tremaining: 2.08s\n",
      "734:\tlearn: 0.6269475\ttotal: 5.76s\tremaining: 2.08s\n",
      "735:\tlearn: 0.6268354\ttotal: 5.77s\tremaining: 2.07s\n",
      "736:\tlearn: 0.6267741\ttotal: 5.78s\tremaining: 2.06s\n",
      "737:\tlearn: 0.6266664\ttotal: 5.78s\tremaining: 2.05s\n",
      "738:\tlearn: 0.6266119\ttotal: 5.79s\tremaining: 2.04s\n",
      "739:\tlearn: 0.6265404\ttotal: 5.8s\tremaining: 2.04s\n",
      "740:\tlearn: 0.6264625\ttotal: 5.81s\tremaining: 2.03s\n",
      "741:\tlearn: 0.6263974\ttotal: 5.82s\tremaining: 2.02s\n",
      "742:\tlearn: 0.6262902\ttotal: 5.82s\tremaining: 2.01s\n",
      "743:\tlearn: 0.6262225\ttotal: 5.83s\tremaining: 2.01s\n",
      "744:\tlearn: 0.6261223\ttotal: 5.84s\tremaining: 2s\n",
      "745:\tlearn: 0.6260501\ttotal: 5.84s\tremaining: 1.99s\n",
      "746:\tlearn: 0.6259617\ttotal: 5.85s\tremaining: 1.98s\n",
      "747:\tlearn: 0.6258932\ttotal: 5.86s\tremaining: 1.97s\n",
      "748:\tlearn: 0.6258257\ttotal: 5.87s\tremaining: 1.97s\n",
      "749:\tlearn: 0.6257510\ttotal: 5.88s\tremaining: 1.96s\n",
      "750:\tlearn: 0.6256861\ttotal: 5.88s\tremaining: 1.95s\n",
      "751:\tlearn: 0.6256424\ttotal: 5.89s\tremaining: 1.94s\n",
      "752:\tlearn: 0.6255673\ttotal: 5.9s\tremaining: 1.94s\n",
      "753:\tlearn: 0.6255092\ttotal: 5.91s\tremaining: 1.93s\n",
      "754:\tlearn: 0.6254347\ttotal: 5.91s\tremaining: 1.92s\n",
      "755:\tlearn: 0.6253202\ttotal: 5.92s\tremaining: 1.91s\n",
      "756:\tlearn: 0.6252700\ttotal: 5.93s\tremaining: 1.9s\n",
      "757:\tlearn: 0.6252214\ttotal: 5.94s\tremaining: 1.9s\n",
      "758:\tlearn: 0.6251668\ttotal: 5.94s\tremaining: 1.89s\n",
      "759:\tlearn: 0.6250838\ttotal: 5.95s\tremaining: 1.88s\n",
      "760:\tlearn: 0.6250404\ttotal: 5.96s\tremaining: 1.87s\n",
      "761:\tlearn: 0.6249694\ttotal: 5.96s\tremaining: 1.86s\n",
      "762:\tlearn: 0.6248941\ttotal: 5.97s\tremaining: 1.85s\n",
      "763:\tlearn: 0.6248023\ttotal: 5.98s\tremaining: 1.85s\n",
      "764:\tlearn: 0.6247402\ttotal: 5.99s\tremaining: 1.84s\n",
      "765:\tlearn: 0.6246449\ttotal: 5.99s\tremaining: 1.83s\n",
      "766:\tlearn: 0.6245366\ttotal: 6s\tremaining: 1.82s\n",
      "767:\tlearn: 0.6244735\ttotal: 6.01s\tremaining: 1.82s\n",
      "768:\tlearn: 0.6244045\ttotal: 6.02s\tremaining: 1.81s\n",
      "769:\tlearn: 0.6243113\ttotal: 6.03s\tremaining: 1.8s\n",
      "770:\tlearn: 0.6242021\ttotal: 6.04s\tremaining: 1.79s\n",
      "771:\tlearn: 0.6241377\ttotal: 6.04s\tremaining: 1.78s\n",
      "772:\tlearn: 0.6240462\ttotal: 6.05s\tremaining: 1.78s\n",
      "773:\tlearn: 0.6239691\ttotal: 6.06s\tremaining: 1.77s\n",
      "774:\tlearn: 0.6238797\ttotal: 6.07s\tremaining: 1.76s\n",
      "775:\tlearn: 0.6238174\ttotal: 6.08s\tremaining: 1.75s\n",
      "776:\tlearn: 0.6237134\ttotal: 6.08s\tremaining: 1.75s\n",
      "777:\tlearn: 0.6236153\ttotal: 6.09s\tremaining: 1.74s\n",
      "778:\tlearn: 0.6235372\ttotal: 6.1s\tremaining: 1.73s\n",
      "779:\tlearn: 0.6234323\ttotal: 6.11s\tremaining: 1.72s\n",
      "780:\tlearn: 0.6233686\ttotal: 6.12s\tremaining: 1.71s\n",
      "781:\tlearn: 0.6232839\ttotal: 6.12s\tremaining: 1.71s\n",
      "782:\tlearn: 0.6232532\ttotal: 6.13s\tremaining: 1.7s\n",
      "783:\tlearn: 0.6231616\ttotal: 6.14s\tremaining: 1.69s\n",
      "784:\tlearn: 0.6230726\ttotal: 6.14s\tremaining: 1.68s\n",
      "785:\tlearn: 0.6230244\ttotal: 6.15s\tremaining: 1.67s\n",
      "786:\tlearn: 0.6229693\ttotal: 6.16s\tremaining: 1.67s\n",
      "787:\tlearn: 0.6228953\ttotal: 6.17s\tremaining: 1.66s\n",
      "788:\tlearn: 0.6228201\ttotal: 6.17s\tremaining: 1.65s\n",
      "789:\tlearn: 0.6227443\ttotal: 6.18s\tremaining: 1.64s\n",
      "790:\tlearn: 0.6226385\ttotal: 6.19s\tremaining: 1.64s\n",
      "791:\tlearn: 0.6225610\ttotal: 6.2s\tremaining: 1.63s\n",
      "792:\tlearn: 0.6224791\ttotal: 6.21s\tremaining: 1.62s\n",
      "793:\tlearn: 0.6223920\ttotal: 6.21s\tremaining: 1.61s\n",
      "794:\tlearn: 0.6223253\ttotal: 6.22s\tremaining: 1.6s\n",
      "795:\tlearn: 0.6222388\ttotal: 6.23s\tremaining: 1.6s\n",
      "796:\tlearn: 0.6221609\ttotal: 6.24s\tremaining: 1.59s\n",
      "797:\tlearn: 0.6220944\ttotal: 6.24s\tremaining: 1.58s\n",
      "798:\tlearn: 0.6220045\ttotal: 6.25s\tremaining: 1.57s\n",
      "799:\tlearn: 0.6218832\ttotal: 6.26s\tremaining: 1.56s\n",
      "800:\tlearn: 0.6217995\ttotal: 6.27s\tremaining: 1.56s\n",
      "801:\tlearn: 0.6217219\ttotal: 6.28s\tremaining: 1.55s\n",
      "802:\tlearn: 0.6216425\ttotal: 6.28s\tremaining: 1.54s\n",
      "803:\tlearn: 0.6215457\ttotal: 6.29s\tremaining: 1.53s\n",
      "804:\tlearn: 0.6214942\ttotal: 6.3s\tremaining: 1.52s\n",
      "805:\tlearn: 0.6213769\ttotal: 6.31s\tremaining: 1.52s\n",
      "806:\tlearn: 0.6212679\ttotal: 6.31s\tremaining: 1.51s\n",
      "807:\tlearn: 0.6211916\ttotal: 6.32s\tremaining: 1.5s\n",
      "808:\tlearn: 0.6210826\ttotal: 6.33s\tremaining: 1.49s\n",
      "809:\tlearn: 0.6210018\ttotal: 6.34s\tremaining: 1.49s\n",
      "810:\tlearn: 0.6209474\ttotal: 6.34s\tremaining: 1.48s\n",
      "811:\tlearn: 0.6208911\ttotal: 6.35s\tremaining: 1.47s\n",
      "812:\tlearn: 0.6208278\ttotal: 6.36s\tremaining: 1.46s\n",
      "813:\tlearn: 0.6207658\ttotal: 6.37s\tremaining: 1.45s\n",
      "814:\tlearn: 0.6206372\ttotal: 6.37s\tremaining: 1.45s\n",
      "815:\tlearn: 0.6205476\ttotal: 6.38s\tremaining: 1.44s\n",
      "816:\tlearn: 0.6204418\ttotal: 6.39s\tremaining: 1.43s\n",
      "817:\tlearn: 0.6203615\ttotal: 6.4s\tremaining: 1.42s\n",
      "818:\tlearn: 0.6202558\ttotal: 6.41s\tremaining: 1.42s\n",
      "819:\tlearn: 0.6201567\ttotal: 6.42s\tremaining: 1.41s\n",
      "820:\tlearn: 0.6200866\ttotal: 6.42s\tremaining: 1.4s\n",
      "821:\tlearn: 0.6200262\ttotal: 6.43s\tremaining: 1.39s\n",
      "822:\tlearn: 0.6199190\ttotal: 6.44s\tremaining: 1.38s\n",
      "823:\tlearn: 0.6197868\ttotal: 6.45s\tremaining: 1.38s\n",
      "824:\tlearn: 0.6197023\ttotal: 6.45s\tremaining: 1.37s\n",
      "825:\tlearn: 0.6196341\ttotal: 6.46s\tremaining: 1.36s\n",
      "826:\tlearn: 0.6194774\ttotal: 6.47s\tremaining: 1.35s\n",
      "827:\tlearn: 0.6194123\ttotal: 6.48s\tremaining: 1.34s\n",
      "828:\tlearn: 0.6192822\ttotal: 6.48s\tremaining: 1.34s\n",
      "829:\tlearn: 0.6191967\ttotal: 6.49s\tremaining: 1.33s\n",
      "830:\tlearn: 0.6191512\ttotal: 6.5s\tremaining: 1.32s\n",
      "831:\tlearn: 0.6190602\ttotal: 6.51s\tremaining: 1.31s\n",
      "832:\tlearn: 0.6189661\ttotal: 6.51s\tremaining: 1.3s\n",
      "833:\tlearn: 0.6188989\ttotal: 6.52s\tremaining: 1.3s\n",
      "834:\tlearn: 0.6188587\ttotal: 6.53s\tremaining: 1.29s\n",
      "835:\tlearn: 0.6187689\ttotal: 6.54s\tremaining: 1.28s\n",
      "836:\tlearn: 0.6186865\ttotal: 6.54s\tremaining: 1.27s\n",
      "837:\tlearn: 0.6186103\ttotal: 6.55s\tremaining: 1.27s\n",
      "838:\tlearn: 0.6184960\ttotal: 6.56s\tremaining: 1.26s\n",
      "839:\tlearn: 0.6184257\ttotal: 6.57s\tremaining: 1.25s\n",
      "840:\tlearn: 0.6183124\ttotal: 6.57s\tremaining: 1.24s\n",
      "841:\tlearn: 0.6182621\ttotal: 6.58s\tremaining: 1.24s\n",
      "842:\tlearn: 0.6181931\ttotal: 6.59s\tremaining: 1.23s\n",
      "843:\tlearn: 0.6181132\ttotal: 6.6s\tremaining: 1.22s\n",
      "844:\tlearn: 0.6180068\ttotal: 6.61s\tremaining: 1.21s\n",
      "845:\tlearn: 0.6179557\ttotal: 6.61s\tremaining: 1.2s\n",
      "846:\tlearn: 0.6179183\ttotal: 6.62s\tremaining: 1.2s\n",
      "847:\tlearn: 0.6178087\ttotal: 6.63s\tremaining: 1.19s\n",
      "848:\tlearn: 0.6176996\ttotal: 6.64s\tremaining: 1.18s\n",
      "849:\tlearn: 0.6176179\ttotal: 6.64s\tremaining: 1.17s\n",
      "850:\tlearn: 0.6175297\ttotal: 6.65s\tremaining: 1.16s\n",
      "851:\tlearn: 0.6174669\ttotal: 6.66s\tremaining: 1.16s\n",
      "852:\tlearn: 0.6173244\ttotal: 6.67s\tremaining: 1.15s\n",
      "853:\tlearn: 0.6172174\ttotal: 6.67s\tremaining: 1.14s\n",
      "854:\tlearn: 0.6171312\ttotal: 6.68s\tremaining: 1.13s\n",
      "855:\tlearn: 0.6170697\ttotal: 6.69s\tremaining: 1.13s\n",
      "856:\tlearn: 0.6169960\ttotal: 6.7s\tremaining: 1.12s\n",
      "857:\tlearn: 0.6169459\ttotal: 6.71s\tremaining: 1.11s\n",
      "858:\tlearn: 0.6168586\ttotal: 6.71s\tremaining: 1.1s\n",
      "859:\tlearn: 0.6167502\ttotal: 6.72s\tremaining: 1.09s\n",
      "860:\tlearn: 0.6166756\ttotal: 6.73s\tremaining: 1.09s\n",
      "861:\tlearn: 0.6165746\ttotal: 6.74s\tremaining: 1.08s\n",
      "862:\tlearn: 0.6165280\ttotal: 6.74s\tremaining: 1.07s\n",
      "863:\tlearn: 0.6164526\ttotal: 6.75s\tremaining: 1.06s\n",
      "864:\tlearn: 0.6164024\ttotal: 6.76s\tremaining: 1.05s\n",
      "865:\tlearn: 0.6163191\ttotal: 6.77s\tremaining: 1.05s\n",
      "866:\tlearn: 0.6162478\ttotal: 6.77s\tremaining: 1.04s\n",
      "867:\tlearn: 0.6162042\ttotal: 6.78s\tremaining: 1.03s\n",
      "868:\tlearn: 0.6161453\ttotal: 6.79s\tremaining: 1.02s\n",
      "869:\tlearn: 0.6160847\ttotal: 6.79s\tremaining: 1.01s\n",
      "870:\tlearn: 0.6160271\ttotal: 6.8s\tremaining: 1.01s\n",
      "871:\tlearn: 0.6159364\ttotal: 6.81s\tremaining: 1000ms\n",
      "872:\tlearn: 0.6158839\ttotal: 6.82s\tremaining: 992ms\n",
      "873:\tlearn: 0.6158060\ttotal: 6.83s\tremaining: 984ms\n",
      "874:\tlearn: 0.6157295\ttotal: 6.83s\tremaining: 976ms\n",
      "875:\tlearn: 0.6156591\ttotal: 6.84s\tremaining: 968ms\n",
      "876:\tlearn: 0.6155891\ttotal: 6.85s\tremaining: 961ms\n",
      "877:\tlearn: 0.6155124\ttotal: 6.86s\tremaining: 953ms\n",
      "878:\tlearn: 0.6154107\ttotal: 6.86s\tremaining: 945ms\n",
      "879:\tlearn: 0.6153098\ttotal: 6.87s\tremaining: 937ms\n",
      "880:\tlearn: 0.6152551\ttotal: 6.88s\tremaining: 929ms\n",
      "881:\tlearn: 0.6151708\ttotal: 6.88s\tremaining: 921ms\n",
      "882:\tlearn: 0.6150996\ttotal: 6.89s\tremaining: 913ms\n",
      "883:\tlearn: 0.6150149\ttotal: 6.9s\tremaining: 905ms\n",
      "884:\tlearn: 0.6149506\ttotal: 6.91s\tremaining: 898ms\n",
      "885:\tlearn: 0.6148479\ttotal: 6.92s\tremaining: 890ms\n",
      "886:\tlearn: 0.6147756\ttotal: 6.92s\tremaining: 882ms\n",
      "887:\tlearn: 0.6146990\ttotal: 6.93s\tremaining: 874ms\n",
      "888:\tlearn: 0.6146188\ttotal: 6.94s\tremaining: 866ms\n",
      "889:\tlearn: 0.6145070\ttotal: 6.95s\tremaining: 858ms\n",
      "890:\tlearn: 0.6143838\ttotal: 6.95s\tremaining: 851ms\n",
      "891:\tlearn: 0.6143277\ttotal: 6.96s\tremaining: 843ms\n",
      "892:\tlearn: 0.6142520\ttotal: 6.97s\tremaining: 835ms\n",
      "893:\tlearn: 0.6141220\ttotal: 6.98s\tremaining: 827ms\n",
      "894:\tlearn: 0.6140122\ttotal: 6.98s\tremaining: 819ms\n",
      "895:\tlearn: 0.6139292\ttotal: 6.99s\tremaining: 812ms\n",
      "896:\tlearn: 0.6138478\ttotal: 7s\tremaining: 804ms\n",
      "897:\tlearn: 0.6137557\ttotal: 7.01s\tremaining: 796ms\n",
      "898:\tlearn: 0.6136873\ttotal: 7.01s\tremaining: 788ms\n",
      "899:\tlearn: 0.6136341\ttotal: 7.02s\tremaining: 780ms\n",
      "900:\tlearn: 0.6135620\ttotal: 7.03s\tremaining: 773ms\n",
      "901:\tlearn: 0.6134898\ttotal: 7.04s\tremaining: 765ms\n",
      "902:\tlearn: 0.6134440\ttotal: 7.04s\tremaining: 757ms\n",
      "903:\tlearn: 0.6133362\ttotal: 7.05s\tremaining: 749ms\n",
      "904:\tlearn: 0.6132581\ttotal: 7.06s\tremaining: 741ms\n",
      "905:\tlearn: 0.6131804\ttotal: 7.07s\tremaining: 733ms\n",
      "906:\tlearn: 0.6130651\ttotal: 7.08s\tremaining: 726ms\n",
      "907:\tlearn: 0.6129759\ttotal: 7.08s\tremaining: 718ms\n",
      "908:\tlearn: 0.6128987\ttotal: 7.09s\tremaining: 710ms\n",
      "909:\tlearn: 0.6128119\ttotal: 7.1s\tremaining: 702ms\n",
      "910:\tlearn: 0.6127141\ttotal: 7.11s\tremaining: 694ms\n",
      "911:\tlearn: 0.6126582\ttotal: 7.11s\tremaining: 686ms\n",
      "912:\tlearn: 0.6125447\ttotal: 7.12s\tremaining: 679ms\n",
      "913:\tlearn: 0.6124685\ttotal: 7.13s\tremaining: 671ms\n",
      "914:\tlearn: 0.6123620\ttotal: 7.13s\tremaining: 663ms\n",
      "915:\tlearn: 0.6123076\ttotal: 7.14s\tremaining: 655ms\n",
      "916:\tlearn: 0.6122365\ttotal: 7.15s\tremaining: 647ms\n",
      "917:\tlearn: 0.6121404\ttotal: 7.16s\tremaining: 639ms\n",
      "918:\tlearn: 0.6120885\ttotal: 7.16s\tremaining: 632ms\n",
      "919:\tlearn: 0.6120372\ttotal: 7.17s\tremaining: 624ms\n",
      "920:\tlearn: 0.6119393\ttotal: 7.18s\tremaining: 616ms\n",
      "921:\tlearn: 0.6118302\ttotal: 7.19s\tremaining: 608ms\n",
      "922:\tlearn: 0.6117503\ttotal: 7.2s\tremaining: 600ms\n",
      "923:\tlearn: 0.6116727\ttotal: 7.2s\tremaining: 593ms\n",
      "924:\tlearn: 0.6115863\ttotal: 7.21s\tremaining: 585ms\n",
      "925:\tlearn: 0.6114946\ttotal: 7.22s\tremaining: 577ms\n",
      "926:\tlearn: 0.6114267\ttotal: 7.23s\tremaining: 569ms\n",
      "927:\tlearn: 0.6112944\ttotal: 7.24s\tremaining: 561ms\n",
      "928:\tlearn: 0.6111709\ttotal: 7.24s\tremaining: 554ms\n",
      "929:\tlearn: 0.6110787\ttotal: 7.25s\tremaining: 546ms\n",
      "930:\tlearn: 0.6109925\ttotal: 7.26s\tremaining: 538ms\n",
      "931:\tlearn: 0.6109218\ttotal: 7.26s\tremaining: 530ms\n",
      "932:\tlearn: 0.6108165\ttotal: 7.27s\tremaining: 522ms\n",
      "933:\tlearn: 0.6107257\ttotal: 7.28s\tremaining: 515ms\n",
      "934:\tlearn: 0.6106374\ttotal: 7.29s\tremaining: 507ms\n",
      "935:\tlearn: 0.6105864\ttotal: 7.29s\tremaining: 499ms\n",
      "936:\tlearn: 0.6105192\ttotal: 7.3s\tremaining: 491ms\n",
      "937:\tlearn: 0.6104295\ttotal: 7.31s\tremaining: 483ms\n",
      "938:\tlearn: 0.6103751\ttotal: 7.32s\tremaining: 475ms\n",
      "939:\tlearn: 0.6102964\ttotal: 7.33s\tremaining: 468ms\n",
      "940:\tlearn: 0.6102480\ttotal: 7.33s\tremaining: 460ms\n",
      "941:\tlearn: 0.6101736\ttotal: 7.34s\tremaining: 452ms\n",
      "942:\tlearn: 0.6100737\ttotal: 7.35s\tremaining: 445ms\n",
      "943:\tlearn: 0.6100078\ttotal: 7.37s\tremaining: 437ms\n",
      "944:\tlearn: 0.6099370\ttotal: 7.38s\tremaining: 429ms\n",
      "945:\tlearn: 0.6098790\ttotal: 7.39s\tremaining: 422ms\n",
      "946:\tlearn: 0.6098068\ttotal: 7.4s\tremaining: 414ms\n",
      "947:\tlearn: 0.6097625\ttotal: 7.4s\tremaining: 406ms\n",
      "948:\tlearn: 0.6096686\ttotal: 7.41s\tremaining: 398ms\n",
      "949:\tlearn: 0.6095833\ttotal: 7.42s\tremaining: 391ms\n",
      "950:\tlearn: 0.6094936\ttotal: 7.43s\tremaining: 383ms\n",
      "951:\tlearn: 0.6094265\ttotal: 7.44s\tremaining: 375ms\n",
      "952:\tlearn: 0.6093594\ttotal: 7.45s\tremaining: 367ms\n",
      "953:\tlearn: 0.6092831\ttotal: 7.46s\tremaining: 360ms\n",
      "954:\tlearn: 0.6091833\ttotal: 7.46s\tremaining: 352ms\n",
      "955:\tlearn: 0.6091066\ttotal: 7.47s\tremaining: 344ms\n",
      "956:\tlearn: 0.6090560\ttotal: 7.48s\tremaining: 336ms\n",
      "957:\tlearn: 0.6089968\ttotal: 7.49s\tremaining: 328ms\n",
      "958:\tlearn: 0.6089346\ttotal: 7.5s\tremaining: 321ms\n",
      "959:\tlearn: 0.6088166\ttotal: 7.51s\tremaining: 313ms\n",
      "960:\tlearn: 0.6087275\ttotal: 7.52s\tremaining: 305ms\n",
      "961:\tlearn: 0.6086968\ttotal: 7.53s\tremaining: 297ms\n",
      "962:\tlearn: 0.6086316\ttotal: 7.54s\tremaining: 290ms\n",
      "963:\tlearn: 0.6085572\ttotal: 7.54s\tremaining: 282ms\n",
      "964:\tlearn: 0.6084757\ttotal: 7.55s\tremaining: 274ms\n",
      "965:\tlearn: 0.6084041\ttotal: 7.57s\tremaining: 267ms\n",
      "966:\tlearn: 0.6082907\ttotal: 7.59s\tremaining: 259ms\n",
      "967:\tlearn: 0.6081907\ttotal: 7.61s\tremaining: 251ms\n",
      "968:\tlearn: 0.6080933\ttotal: 7.63s\tremaining: 244ms\n",
      "969:\tlearn: 0.6080345\ttotal: 7.64s\tremaining: 236ms\n",
      "970:\tlearn: 0.6079530\ttotal: 7.65s\tremaining: 228ms\n",
      "971:\tlearn: 0.6079009\ttotal: 7.66s\tremaining: 221ms\n",
      "972:\tlearn: 0.6078367\ttotal: 7.67s\tremaining: 213ms\n",
      "973:\tlearn: 0.6077708\ttotal: 7.68s\tremaining: 205ms\n",
      "974:\tlearn: 0.6076990\ttotal: 7.68s\tremaining: 197ms\n",
      "975:\tlearn: 0.6076456\ttotal: 7.7s\tremaining: 189ms\n",
      "976:\tlearn: 0.6075617\ttotal: 7.7s\tremaining: 181ms\n",
      "977:\tlearn: 0.6074786\ttotal: 7.71s\tremaining: 174ms\n",
      "978:\tlearn: 0.6074141\ttotal: 7.72s\tremaining: 166ms\n",
      "979:\tlearn: 0.6073439\ttotal: 7.74s\tremaining: 158ms\n",
      "980:\tlearn: 0.6072829\ttotal: 7.76s\tremaining: 150ms\n",
      "981:\tlearn: 0.6071834\ttotal: 7.79s\tremaining: 143ms\n",
      "982:\tlearn: 0.6071090\ttotal: 7.8s\tremaining: 135ms\n",
      "983:\tlearn: 0.6070233\ttotal: 7.81s\tremaining: 127ms\n",
      "984:\tlearn: 0.6069194\ttotal: 7.82s\tremaining: 119ms\n",
      "985:\tlearn: 0.6067872\ttotal: 7.83s\tremaining: 111ms\n",
      "986:\tlearn: 0.6066979\ttotal: 7.84s\tremaining: 103ms\n",
      "987:\tlearn: 0.6066386\ttotal: 7.85s\tremaining: 95.3ms\n",
      "988:\tlearn: 0.6065740\ttotal: 7.86s\tremaining: 87.4ms\n",
      "989:\tlearn: 0.6065088\ttotal: 7.87s\tremaining: 79.5ms\n",
      "990:\tlearn: 0.6064487\ttotal: 7.88s\tremaining: 71.6ms\n",
      "991:\tlearn: 0.6063819\ttotal: 7.89s\tremaining: 63.7ms\n",
      "992:\tlearn: 0.6063299\ttotal: 7.91s\tremaining: 55.7ms\n",
      "993:\tlearn: 0.6062666\ttotal: 7.91s\tremaining: 47.8ms\n",
      "994:\tlearn: 0.6061367\ttotal: 7.92s\tremaining: 39.8ms\n",
      "995:\tlearn: 0.6060204\ttotal: 7.93s\tremaining: 31.9ms\n",
      "996:\tlearn: 0.6059189\ttotal: 7.94s\tremaining: 23.9ms\n",
      "997:\tlearn: 0.6058372\ttotal: 7.95s\tremaining: 15.9ms\n",
      "998:\tlearn: 0.6057482\ttotal: 7.96s\tremaining: 7.97ms\n",
      "999:\tlearn: 0.6056746\ttotal: 7.97s\tremaining: 0us\n"
     ]
    },
    {
     "data": {
      "text/plain": [
       "<catboost.core.CatBoostClassifier at 0x7f8cb02ac690>"
      ]
     },
     "execution_count": 31,
     "metadata": {},
     "output_type": "execute_result"
    }
   ],
   "source": [
    "from catboost import CatBoostClassifier\n",
    "clf = CatBoostClassifier(loss_function='CrossEntropy') \n",
    "clf.fit(x_train,y_train)\n",
    "\n",
    "# # 0.5134288186100163"
   ]
  },
  {
   "cell_type": "code",
   "execution_count": 32,
   "id": "f1c4bd64",
   "metadata": {
    "execution": {
     "iopub.execute_input": "2022-11-24T09:52:33.548076Z",
     "iopub.status.busy": "2022-11-24T09:52:33.547053Z",
     "iopub.status.idle": "2022-11-24T09:52:33.565472Z",
     "shell.execute_reply": "2022-11-24T09:52:33.566146Z",
     "shell.execute_reply.started": "2021-12-13T14:28:44.46315Z"
    },
    "papermill": {
     "duration": 0.081066,
     "end_time": "2022-11-24T09:52:33.566378",
     "exception": false,
     "start_time": "2022-11-24T09:52:33.485312",
     "status": "completed"
    },
    "tags": []
   },
   "outputs": [
    {
     "data": {
      "text/plain": [
       "0.507330577717966"
      ]
     },
     "execution_count": 32,
     "metadata": {},
     "output_type": "execute_result"
    }
   ],
   "source": [
    "prediction = clf.predict(x_test)\n",
    "roc_auc_score(y_test,prediction)"
   ]
  },
  {
   "cell_type": "code",
   "execution_count": 33,
   "id": "92a53310",
   "metadata": {
    "execution": {
     "iopub.execute_input": "2022-11-24T09:52:33.675952Z",
     "iopub.status.busy": "2022-11-24T09:52:33.674904Z",
     "iopub.status.idle": "2022-11-24T09:52:33.711675Z",
     "shell.execute_reply": "2022-11-24T09:52:33.712231Z",
     "shell.execute_reply.started": "2021-12-13T14:28:46.988318Z"
    },
    "papermill": {
     "duration": 0.093216,
     "end_time": "2022-11-24T09:52:33.712436",
     "exception": false,
     "start_time": "2022-11-24T09:52:33.619220",
     "status": "completed"
    },
    "tags": []
   },
   "outputs": [
    {
     "name": "stderr",
     "output_type": "stream",
     "text": [
      "/opt/conda/lib/python3.7/site-packages/sklearn/utils/validation.py:72: DataConversionWarning: A column-vector y was passed when a 1d array was expected. Please change the shape of y to (n_samples, ), for example using ravel().\n",
      "  return f(**kwargs)\n"
     ]
    },
    {
     "data": {
      "text/plain": [
       "0.5060847832356051"
      ]
     },
     "execution_count": 33,
     "metadata": {},
     "output_type": "execute_result"
    }
   ],
   "source": [
    "from sklearn.naive_bayes import GaussianNB\n",
    "classifier = GaussianNB()\n",
    "classifier.fit(x_train, y_train)\n",
    "prediction = classifier.predict(x_test)\n",
    "roc_auc_score(y_test,prediction)"
   ]
  },
  {
   "cell_type": "code",
   "execution_count": 34,
   "id": "654c061c",
   "metadata": {
    "execution": {
     "iopub.execute_input": "2022-11-24T09:52:33.827639Z",
     "iopub.status.busy": "2022-11-24T09:52:33.826406Z",
     "iopub.status.idle": "2022-11-24T09:52:33.922356Z",
     "shell.execute_reply": "2022-11-24T09:52:33.921162Z",
     "shell.execute_reply.started": "2021-12-13T14:28:48.953304Z"
    },
    "papermill": {
     "duration": 0.156925,
     "end_time": "2022-11-24T09:52:33.922632",
     "exception": false,
     "start_time": "2022-11-24T09:52:33.765707",
     "status": "completed"
    },
    "tags": []
   },
   "outputs": [
    {
     "name": "stderr",
     "output_type": "stream",
     "text": [
      "/opt/conda/lib/python3.7/site-packages/sklearn/utils/validation.py:72: DataConversionWarning: A column-vector y was passed when a 1d array was expected. Please change the shape of y to (n_samples, ), for example using ravel().\n",
      "  return f(**kwargs)\n"
     ]
    },
    {
     "data": {
      "text/plain": [
       "0.5097914063250986"
      ]
     },
     "execution_count": 34,
     "metadata": {},
     "output_type": "execute_result"
    }
   ],
   "source": [
    "from sklearn.linear_model import SGDClassifier\n",
    "sgd = SGDClassifier(class_weight = \"balanced\")\n",
    "sgd.fit(x_train,y_train)\n",
    "prediction = sgd.predict(x_test)\n",
    "roc_auc_score(y_test,prediction)"
   ]
  },
  {
   "cell_type": "code",
   "execution_count": 35,
   "id": "73af310f",
   "metadata": {
    "execution": {
     "iopub.execute_input": "2022-11-24T09:52:34.101105Z",
     "iopub.status.busy": "2022-11-24T09:52:34.099786Z",
     "iopub.status.idle": "2022-11-24T09:52:35.574125Z",
     "shell.execute_reply": "2022-11-24T09:52:35.573448Z",
     "shell.execute_reply.started": "2021-12-13T14:28:50.831933Z"
    },
    "papermill": {
     "duration": 1.535171,
     "end_time": "2022-11-24T09:52:35.574293",
     "exception": false,
     "start_time": "2022-11-24T09:52:34.039122",
     "status": "completed"
    },
    "tags": []
   },
   "outputs": [
    {
     "name": "stderr",
     "output_type": "stream",
     "text": [
      "/opt/conda/lib/python3.7/site-packages/ipykernel_launcher.py:3: DataConversionWarning: A column-vector y was passed when a 1d array was expected. Please change the shape of y to (n_samples, ), for example using ravel().\n",
      "  This is separate from the ipykernel package so we can avoid doing imports until\n"
     ]
    },
    {
     "data": {
      "text/plain": [
       "0.4982408920503701"
      ]
     },
     "execution_count": 35,
     "metadata": {},
     "output_type": "execute_result"
    }
   ],
   "source": [
    "from sklearn.neighbors import KNeighborsClassifier\n",
    "knn = KNeighborsClassifier(n_neighbors=10)\n",
    "knn.fit(x_train,y_train)\n",
    "prediction = knn.predict(x_test)\n",
    "roc_auc_score(y_test,prediction)"
   ]
  },
  {
   "cell_type": "code",
   "execution_count": 36,
   "id": "f7d5bebc",
   "metadata": {
    "execution": {
     "iopub.execute_input": "2022-11-24T09:52:35.690616Z",
     "iopub.status.busy": "2022-11-24T09:52:35.689855Z",
     "iopub.status.idle": "2022-11-24T09:54:40.948919Z",
     "shell.execute_reply": "2022-11-24T09:54:40.949501Z",
     "shell.execute_reply.started": "2021-12-14T13:21:39.348226Z"
    },
    "papermill": {
     "duration": 125.321461,
     "end_time": "2022-11-24T09:54:40.949722",
     "exception": false,
     "start_time": "2022-11-24T09:52:35.628261",
     "status": "completed"
    },
    "tags": []
   },
   "outputs": [
    {
     "name": "stderr",
     "output_type": "stream",
     "text": [
      "/opt/conda/lib/python3.7/site-packages/sklearn/utils/validation.py:72: DataConversionWarning: A column-vector y was passed when a 1d array was expected. Please change the shape of y to (n_samples, ), for example using ravel().\n",
      "  return f(**kwargs)\n"
     ]
    },
    {
     "data": {
      "text/plain": [
       "0.5226369316543304"
      ]
     },
     "execution_count": 36,
     "metadata": {},
     "output_type": "execute_result"
    }
   ],
   "source": [
    "from sklearn.svm import SVC\n",
    "svm = SVC(kernel = \"linear\", class_weight= \"balanced\",probability=True)\n",
    "svm.fit(x_train,y_train)\n",
    "prediction = svm.predict_proba(x_test)[:,1]\n",
    "roc_auc_score(y_test,prediction)\n",
    "# 0.5171796597135442"
   ]
  },
  {
   "cell_type": "code",
   "execution_count": null,
   "id": "c3965ed5",
   "metadata": {
    "papermill": {
     "duration": 0.054742,
     "end_time": "2022-11-24T09:54:41.060208",
     "exception": false,
     "start_time": "2022-11-24T09:54:41.005466",
     "status": "completed"
    },
    "tags": []
   },
   "outputs": [],
   "source": []
  },
  {
   "cell_type": "markdown",
   "id": "f53e8622",
   "metadata": {
    "papermill": {
     "duration": 0.054155,
     "end_time": "2022-11-24T09:54:41.168984",
     "exception": false,
     "start_time": "2022-11-24T09:54:41.114829",
     "status": "completed"
    },
    "tags": []
   },
   "source": [
    "## Making Prediction"
   ]
  },
  {
   "cell_type": "code",
   "execution_count": 37,
   "id": "bd3c4996",
   "metadata": {
    "execution": {
     "iopub.execute_input": "2022-11-24T09:54:41.283452Z",
     "iopub.status.busy": "2022-11-24T09:54:41.282744Z",
     "iopub.status.idle": "2022-11-24T09:54:41.338843Z",
     "shell.execute_reply": "2022-11-24T09:54:41.337653Z",
     "shell.execute_reply.started": "2021-12-14T12:47:01.963089Z"
    },
    "papermill": {
     "duration": 0.115537,
     "end_time": "2022-11-24T09:54:41.339154",
     "exception": false,
     "start_time": "2022-11-24T09:54:41.223617",
     "status": "completed"
    },
    "tags": []
   },
   "outputs": [],
   "source": [
    "ligr = LinearRegression()\n",
    "ligr.fit(train,target)\n",
    "prediction = ligr.predict(test)"
   ]
  },
  {
   "cell_type": "code",
   "execution_count": 38,
   "id": "96be1cde",
   "metadata": {
    "execution": {
     "iopub.execute_input": "2022-11-24T09:54:41.525519Z",
     "iopub.status.busy": "2022-11-24T09:54:41.524134Z",
     "iopub.status.idle": "2022-11-24T09:54:41.529982Z",
     "shell.execute_reply": "2022-11-24T09:54:41.529293Z",
     "shell.execute_reply.started": "2021-12-14T12:56:51.98233Z"
    },
    "papermill": {
     "duration": 0.066721,
     "end_time": "2022-11-24T09:54:41.530168",
     "exception": false,
     "start_time": "2022-11-24T09:54:41.463447",
     "status": "completed"
    },
    "tags": []
   },
   "outputs": [],
   "source": [
    "trainv2 = train[feature_name]\n",
    "testv2 = test[feature_name]"
   ]
  },
  {
   "cell_type": "code",
   "execution_count": 39,
   "id": "70557807",
   "metadata": {
    "execution": {
     "iopub.execute_input": "2022-11-24T09:54:41.646559Z",
     "iopub.status.busy": "2022-11-24T09:54:41.645598Z",
     "iopub.status.idle": "2022-11-24T09:54:41.899073Z",
     "shell.execute_reply": "2022-11-24T09:54:41.900667Z",
     "shell.execute_reply.started": "2021-12-14T12:59:21.223655Z"
    },
    "papermill": {
     "duration": 0.316152,
     "end_time": "2022-11-24T09:54:41.901013",
     "exception": false,
     "start_time": "2022-11-24T09:54:41.584861",
     "status": "completed"
    },
    "tags": []
   },
   "outputs": [
    {
     "name": "stderr",
     "output_type": "stream",
     "text": [
      "/opt/conda/lib/python3.7/site-packages/sklearn/utils/validation.py:72: DataConversionWarning: A column-vector y was passed when a 1d array was expected. Please change the shape of y to (n_samples, ), for example using ravel().\n",
      "  return f(**kwargs)\n"
     ]
    }
   ],
   "source": [
    "log = LogisticRegression(class_weight='balanced')\n",
    "# log.fit(train,target)\n",
    "# prediction = log.predict(test)\n",
    "\n",
    "log.fit(trainv2,target)\n",
    "prediction = log.predict(testv2)"
   ]
  },
  {
   "cell_type": "code",
   "execution_count": 40,
   "id": "e2f081b6",
   "metadata": {
    "execution": {
     "iopub.execute_input": "2022-11-24T09:54:42.083773Z",
     "iopub.status.busy": "2022-11-24T09:54:42.083059Z",
     "iopub.status.idle": "2022-11-24T09:54:42.085366Z",
     "shell.execute_reply": "2022-11-24T09:54:42.084734Z",
     "shell.execute_reply.started": "2021-12-13T09:14:34.220696Z"
    },
    "papermill": {
     "duration": 0.060983,
     "end_time": "2022-11-24T09:54:42.085514",
     "exception": false,
     "start_time": "2022-11-24T09:54:42.024531",
     "status": "completed"
    },
    "tags": []
   },
   "outputs": [],
   "source": [
    "# clf = CatBoostClassifier(loss_function='CrossEntropy') \n",
    "# clf.fit(train,target)\n",
    "# prediction = clf.predict(test)"
   ]
  },
  {
   "cell_type": "code",
   "execution_count": 41,
   "id": "fbad09ec",
   "metadata": {
    "execution": {
     "iopub.execute_input": "2022-11-24T09:54:42.197028Z",
     "iopub.status.busy": "2022-11-24T09:54:42.196376Z",
     "iopub.status.idle": "2022-11-24T09:57:52.533266Z",
     "shell.execute_reply": "2022-11-24T09:57:52.532542Z",
     "shell.execute_reply.started": "2021-12-14T13:26:28.374013Z"
    },
    "papermill": {
     "duration": 190.393772,
     "end_time": "2022-11-24T09:57:52.533454",
     "exception": false,
     "start_time": "2022-11-24T09:54:42.139682",
     "status": "completed"
    },
    "tags": []
   },
   "outputs": [
    {
     "name": "stderr",
     "output_type": "stream",
     "text": [
      "/opt/conda/lib/python3.7/site-packages/sklearn/utils/validation.py:72: DataConversionWarning: A column-vector y was passed when a 1d array was expected. Please change the shape of y to (n_samples, ), for example using ravel().\n",
      "  return f(**kwargs)\n"
     ]
    }
   ],
   "source": [
    "from sklearn.svm import SVC\n",
    "svm = SVC(kernel = \"linear\", class_weight= \"balanced\",probability=True)\n",
    "svm.fit(train,target)\n",
    "prediction = svm.predict_proba(test)[:,1]"
   ]
  },
  {
   "cell_type": "code",
   "execution_count": 42,
   "id": "016645e5",
   "metadata": {
    "execution": {
     "iopub.execute_input": "2022-11-24T09:57:52.653432Z",
     "iopub.status.busy": "2022-11-24T09:57:52.652462Z",
     "iopub.status.idle": "2022-11-24T09:57:52.688927Z",
     "shell.execute_reply": "2022-11-24T09:57:52.688279Z",
     "shell.execute_reply.started": "2021-12-14T13:29:26.166399Z"
    },
    "papermill": {
     "duration": 0.098719,
     "end_time": "2022-11-24T09:57:52.689081",
     "exception": false,
     "start_time": "2022-11-24T09:57:52.590362",
     "status": "completed"
    },
    "tags": []
   },
   "outputs": [
    {
     "data": {
      "text/html": [
       "<div>\n",
       "<style scoped>\n",
       "    .dataframe tbody tr th:only-of-type {\n",
       "        vertical-align: middle;\n",
       "    }\n",
       "\n",
       "    .dataframe tbody tr th {\n",
       "        vertical-align: top;\n",
       "    }\n",
       "\n",
       "    .dataframe thead th {\n",
       "        text-align: right;\n",
       "    }\n",
       "</style>\n",
       "<table border=\"1\" class=\"dataframe\">\n",
       "  <thead>\n",
       "    <tr style=\"text-align: right;\">\n",
       "      <th></th>\n",
       "      <th>Id</th>\n",
       "      <th>target</th>\n",
       "    </tr>\n",
       "  </thead>\n",
       "  <tbody>\n",
       "    <tr>\n",
       "      <th>0</th>\n",
       "      <td>0</td>\n",
       "      <td>0.523538</td>\n",
       "    </tr>\n",
       "    <tr>\n",
       "      <th>1</th>\n",
       "      <td>1</td>\n",
       "      <td>0.523539</td>\n",
       "    </tr>\n",
       "    <tr>\n",
       "      <th>2</th>\n",
       "      <td>2</td>\n",
       "      <td>0.523538</td>\n",
       "    </tr>\n",
       "    <tr>\n",
       "      <th>3</th>\n",
       "      <td>3</td>\n",
       "      <td>0.494559</td>\n",
       "    </tr>\n",
       "    <tr>\n",
       "      <th>4</th>\n",
       "      <td>4</td>\n",
       "      <td>0.494560</td>\n",
       "    </tr>\n",
       "    <tr>\n",
       "      <th>...</th>\n",
       "      <td>...</td>\n",
       "      <td>...</td>\n",
       "    </tr>\n",
       "    <tr>\n",
       "      <th>10312</th>\n",
       "      <td>10312</td>\n",
       "      <td>0.494557</td>\n",
       "    </tr>\n",
       "    <tr>\n",
       "      <th>10313</th>\n",
       "      <td>10313</td>\n",
       "      <td>0.523534</td>\n",
       "    </tr>\n",
       "    <tr>\n",
       "      <th>10314</th>\n",
       "      <td>10314</td>\n",
       "      <td>0.523536</td>\n",
       "    </tr>\n",
       "    <tr>\n",
       "      <th>10315</th>\n",
       "      <td>10315</td>\n",
       "      <td>0.523534</td>\n",
       "    </tr>\n",
       "    <tr>\n",
       "      <th>10316</th>\n",
       "      <td>10316</td>\n",
       "      <td>0.523535</td>\n",
       "    </tr>\n",
       "  </tbody>\n",
       "</table>\n",
       "<p>10317 rows × 2 columns</p>\n",
       "</div>"
      ],
      "text/plain": [
       "          Id    target\n",
       "0          0  0.523538\n",
       "1          1  0.523539\n",
       "2          2  0.523538\n",
       "3          3  0.494559\n",
       "4          4  0.494560\n",
       "...      ...       ...\n",
       "10312  10312  0.494557\n",
       "10313  10313  0.523534\n",
       "10314  10314  0.523536\n",
       "10315  10315  0.523534\n",
       "10316  10316  0.523535\n",
       "\n",
       "[10317 rows x 2 columns]"
      ]
     },
     "execution_count": 42,
     "metadata": {},
     "output_type": "execute_result"
    }
   ],
   "source": [
    "sub = pd.read_csv('../input/r-street-quant-challenge/sample_submission.csv')\n",
    "sub['target'] = prediction\n",
    "sub"
   ]
  },
  {
   "cell_type": "code",
   "execution_count": 43,
   "id": "b6383648",
   "metadata": {
    "execution": {
     "iopub.execute_input": "2022-11-24T09:57:52.808307Z",
     "iopub.status.busy": "2022-11-24T09:57:52.807576Z",
     "iopub.status.idle": "2022-11-24T09:57:52.840588Z",
     "shell.execute_reply": "2022-11-24T09:57:52.841103Z",
     "shell.execute_reply.started": "2021-12-14T13:29:26.200872Z"
    },
    "papermill": {
     "duration": 0.094883,
     "end_time": "2022-11-24T09:57:52.841319",
     "exception": false,
     "start_time": "2022-11-24T09:57:52.746436",
     "status": "completed"
    },
    "tags": []
   },
   "outputs": [],
   "source": [
    "sub.to_csv('SVC_Predict_proba_submission.csv',index=False)"
   ]
  },
  {
   "cell_type": "code",
   "execution_count": 44,
   "id": "422dc9a0",
   "metadata": {
    "execution": {
     "iopub.execute_input": "2022-11-24T09:57:52.958317Z",
     "iopub.status.busy": "2022-11-24T09:57:52.957401Z",
     "iopub.status.idle": "2022-11-24T09:57:52.960797Z",
     "shell.execute_reply": "2022-11-24T09:57:52.961456Z",
     "shell.execute_reply.started": "2021-12-14T12:59:29.777242Z"
    },
    "papermill": {
     "duration": 0.064585,
     "end_time": "2022-11-24T09:57:52.961643",
     "exception": false,
     "start_time": "2022-11-24T09:57:52.897058",
     "status": "completed"
    },
    "tags": []
   },
   "outputs": [
    {
     "data": {
      "text/plain": [
       "array([0.52353817, 0.52353898, 0.52353846, ..., 0.52353571, 0.52353397,\n",
       "       0.52353454])"
      ]
     },
     "execution_count": 44,
     "metadata": {},
     "output_type": "execute_result"
    }
   ],
   "source": [
    "prediction"
   ]
  },
  {
   "cell_type": "code",
   "execution_count": 45,
   "id": "df92b547",
   "metadata": {
    "execution": {
     "iopub.execute_input": "2022-11-24T09:57:53.077427Z",
     "iopub.status.busy": "2022-11-24T09:57:53.076623Z",
     "iopub.status.idle": "2022-11-24T09:57:53.088937Z",
     "shell.execute_reply": "2022-11-24T09:57:53.089504Z",
     "shell.execute_reply.started": "2021-12-14T13:00:04.226342Z"
    },
    "papermill": {
     "duration": 0.071807,
     "end_time": "2022-11-24T09:57:53.089681",
     "exception": false,
     "start_time": "2022-11-24T09:57:53.017874",
     "status": "completed"
    },
    "tags": []
   },
   "outputs": [
    {
     "data": {
      "text/html": [
       "<div>\n",
       "<style scoped>\n",
       "    .dataframe tbody tr th:only-of-type {\n",
       "        vertical-align: middle;\n",
       "    }\n",
       "\n",
       "    .dataframe tbody tr th {\n",
       "        vertical-align: top;\n",
       "    }\n",
       "\n",
       "    .dataframe thead th {\n",
       "        text-align: right;\n",
       "    }\n",
       "</style>\n",
       "<table border=\"1\" class=\"dataframe\">\n",
       "  <thead>\n",
       "    <tr style=\"text-align: right;\">\n",
       "      <th></th>\n",
       "      <th>Id</th>\n",
       "      <th>target</th>\n",
       "    </tr>\n",
       "  </thead>\n",
       "  <tbody>\n",
       "    <tr>\n",
       "      <th>0</th>\n",
       "      <td>0</td>\n",
       "      <td>0.523538</td>\n",
       "    </tr>\n",
       "    <tr>\n",
       "      <th>1</th>\n",
       "      <td>1</td>\n",
       "      <td>0.523539</td>\n",
       "    </tr>\n",
       "    <tr>\n",
       "      <th>2</th>\n",
       "      <td>2</td>\n",
       "      <td>0.523538</td>\n",
       "    </tr>\n",
       "    <tr>\n",
       "      <th>3</th>\n",
       "      <td>3</td>\n",
       "      <td>0.494559</td>\n",
       "    </tr>\n",
       "    <tr>\n",
       "      <th>4</th>\n",
       "      <td>4</td>\n",
       "      <td>0.494560</td>\n",
       "    </tr>\n",
       "    <tr>\n",
       "      <th>5</th>\n",
       "      <td>5</td>\n",
       "      <td>0.494558</td>\n",
       "    </tr>\n",
       "    <tr>\n",
       "      <th>6</th>\n",
       "      <td>6</td>\n",
       "      <td>0.494560</td>\n",
       "    </tr>\n",
       "    <tr>\n",
       "      <th>7</th>\n",
       "      <td>7</td>\n",
       "      <td>0.494562</td>\n",
       "    </tr>\n",
       "    <tr>\n",
       "      <th>8</th>\n",
       "      <td>8</td>\n",
       "      <td>0.494562</td>\n",
       "    </tr>\n",
       "    <tr>\n",
       "      <th>9</th>\n",
       "      <td>9</td>\n",
       "      <td>0.494562</td>\n",
       "    </tr>\n",
       "    <tr>\n",
       "      <th>10</th>\n",
       "      <td>10</td>\n",
       "      <td>0.494562</td>\n",
       "    </tr>\n",
       "    <tr>\n",
       "      <th>11</th>\n",
       "      <td>11</td>\n",
       "      <td>0.523541</td>\n",
       "    </tr>\n",
       "    <tr>\n",
       "      <th>12</th>\n",
       "      <td>12</td>\n",
       "      <td>0.523541</td>\n",
       "    </tr>\n",
       "    <tr>\n",
       "      <th>13</th>\n",
       "      <td>13</td>\n",
       "      <td>0.523539</td>\n",
       "    </tr>\n",
       "    <tr>\n",
       "      <th>14</th>\n",
       "      <td>14</td>\n",
       "      <td>0.523540</td>\n",
       "    </tr>\n",
       "    <tr>\n",
       "      <th>15</th>\n",
       "      <td>15</td>\n",
       "      <td>0.523535</td>\n",
       "    </tr>\n",
       "    <tr>\n",
       "      <th>16</th>\n",
       "      <td>16</td>\n",
       "      <td>0.523534</td>\n",
       "    </tr>\n",
       "    <tr>\n",
       "      <th>17</th>\n",
       "      <td>17</td>\n",
       "      <td>0.523534</td>\n",
       "    </tr>\n",
       "    <tr>\n",
       "      <th>18</th>\n",
       "      <td>18</td>\n",
       "      <td>0.523534</td>\n",
       "    </tr>\n",
       "    <tr>\n",
       "      <th>19</th>\n",
       "      <td>19</td>\n",
       "      <td>0.523534</td>\n",
       "    </tr>\n",
       "    <tr>\n",
       "      <th>20</th>\n",
       "      <td>20</td>\n",
       "      <td>0.523535</td>\n",
       "    </tr>\n",
       "    <tr>\n",
       "      <th>21</th>\n",
       "      <td>21</td>\n",
       "      <td>0.523535</td>\n",
       "    </tr>\n",
       "    <tr>\n",
       "      <th>22</th>\n",
       "      <td>22</td>\n",
       "      <td>0.523536</td>\n",
       "    </tr>\n",
       "    <tr>\n",
       "      <th>23</th>\n",
       "      <td>23</td>\n",
       "      <td>0.523536</td>\n",
       "    </tr>\n",
       "    <tr>\n",
       "      <th>24</th>\n",
       "      <td>24</td>\n",
       "      <td>0.523534</td>\n",
       "    </tr>\n",
       "    <tr>\n",
       "      <th>25</th>\n",
       "      <td>25</td>\n",
       "      <td>0.523535</td>\n",
       "    </tr>\n",
       "    <tr>\n",
       "      <th>26</th>\n",
       "      <td>26</td>\n",
       "      <td>0.523534</td>\n",
       "    </tr>\n",
       "    <tr>\n",
       "      <th>27</th>\n",
       "      <td>27</td>\n",
       "      <td>0.523534</td>\n",
       "    </tr>\n",
       "    <tr>\n",
       "      <th>28</th>\n",
       "      <td>28</td>\n",
       "      <td>0.523534</td>\n",
       "    </tr>\n",
       "    <tr>\n",
       "      <th>29</th>\n",
       "      <td>29</td>\n",
       "      <td>0.523535</td>\n",
       "    </tr>\n",
       "    <tr>\n",
       "      <th>30</th>\n",
       "      <td>30</td>\n",
       "      <td>0.494556</td>\n",
       "    </tr>\n",
       "    <tr>\n",
       "      <th>31</th>\n",
       "      <td>31</td>\n",
       "      <td>0.494556</td>\n",
       "    </tr>\n",
       "    <tr>\n",
       "      <th>32</th>\n",
       "      <td>32</td>\n",
       "      <td>0.494556</td>\n",
       "    </tr>\n",
       "    <tr>\n",
       "      <th>33</th>\n",
       "      <td>33</td>\n",
       "      <td>0.494556</td>\n",
       "    </tr>\n",
       "    <tr>\n",
       "      <th>34</th>\n",
       "      <td>34</td>\n",
       "      <td>0.494558</td>\n",
       "    </tr>\n",
       "    <tr>\n",
       "      <th>35</th>\n",
       "      <td>35</td>\n",
       "      <td>0.494557</td>\n",
       "    </tr>\n",
       "    <tr>\n",
       "      <th>36</th>\n",
       "      <td>36</td>\n",
       "      <td>0.494554</td>\n",
       "    </tr>\n",
       "    <tr>\n",
       "      <th>37</th>\n",
       "      <td>37</td>\n",
       "      <td>0.523534</td>\n",
       "    </tr>\n",
       "    <tr>\n",
       "      <th>38</th>\n",
       "      <td>38</td>\n",
       "      <td>0.523534</td>\n",
       "    </tr>\n",
       "    <tr>\n",
       "      <th>39</th>\n",
       "      <td>39</td>\n",
       "      <td>0.523534</td>\n",
       "    </tr>\n",
       "    <tr>\n",
       "      <th>40</th>\n",
       "      <td>40</td>\n",
       "      <td>0.523532</td>\n",
       "    </tr>\n",
       "    <tr>\n",
       "      <th>41</th>\n",
       "      <td>41</td>\n",
       "      <td>0.523535</td>\n",
       "    </tr>\n",
       "    <tr>\n",
       "      <th>42</th>\n",
       "      <td>42</td>\n",
       "      <td>0.523533</td>\n",
       "    </tr>\n",
       "    <tr>\n",
       "      <th>43</th>\n",
       "      <td>43</td>\n",
       "      <td>0.523535</td>\n",
       "    </tr>\n",
       "    <tr>\n",
       "      <th>44</th>\n",
       "      <td>44</td>\n",
       "      <td>0.523535</td>\n",
       "    </tr>\n",
       "    <tr>\n",
       "      <th>45</th>\n",
       "      <td>45</td>\n",
       "      <td>0.523533</td>\n",
       "    </tr>\n",
       "    <tr>\n",
       "      <th>46</th>\n",
       "      <td>46</td>\n",
       "      <td>0.523533</td>\n",
       "    </tr>\n",
       "    <tr>\n",
       "      <th>47</th>\n",
       "      <td>47</td>\n",
       "      <td>0.523532</td>\n",
       "    </tr>\n",
       "    <tr>\n",
       "      <th>48</th>\n",
       "      <td>48</td>\n",
       "      <td>0.523533</td>\n",
       "    </tr>\n",
       "    <tr>\n",
       "      <th>49</th>\n",
       "      <td>49</td>\n",
       "      <td>0.523533</td>\n",
       "    </tr>\n",
       "    <tr>\n",
       "      <th>50</th>\n",
       "      <td>50</td>\n",
       "      <td>0.523533</td>\n",
       "    </tr>\n",
       "    <tr>\n",
       "      <th>51</th>\n",
       "      <td>51</td>\n",
       "      <td>0.523533</td>\n",
       "    </tr>\n",
       "    <tr>\n",
       "      <th>52</th>\n",
       "      <td>52</td>\n",
       "      <td>0.523534</td>\n",
       "    </tr>\n",
       "    <tr>\n",
       "      <th>53</th>\n",
       "      <td>53</td>\n",
       "      <td>0.523534</td>\n",
       "    </tr>\n",
       "    <tr>\n",
       "      <th>54</th>\n",
       "      <td>54</td>\n",
       "      <td>0.523534</td>\n",
       "    </tr>\n",
       "    <tr>\n",
       "      <th>55</th>\n",
       "      <td>55</td>\n",
       "      <td>0.523534</td>\n",
       "    </tr>\n",
       "    <tr>\n",
       "      <th>56</th>\n",
       "      <td>56</td>\n",
       "      <td>0.523534</td>\n",
       "    </tr>\n",
       "    <tr>\n",
       "      <th>57</th>\n",
       "      <td>57</td>\n",
       "      <td>0.523534</td>\n",
       "    </tr>\n",
       "    <tr>\n",
       "      <th>58</th>\n",
       "      <td>58</td>\n",
       "      <td>0.523534</td>\n",
       "    </tr>\n",
       "    <tr>\n",
       "      <th>59</th>\n",
       "      <td>59</td>\n",
       "      <td>0.523535</td>\n",
       "    </tr>\n",
       "  </tbody>\n",
       "</table>\n",
       "</div>"
      ],
      "text/plain": [
       "    Id    target\n",
       "0    0  0.523538\n",
       "1    1  0.523539\n",
       "2    2  0.523538\n",
       "3    3  0.494559\n",
       "4    4  0.494560\n",
       "5    5  0.494558\n",
       "6    6  0.494560\n",
       "7    7  0.494562\n",
       "8    8  0.494562\n",
       "9    9  0.494562\n",
       "10  10  0.494562\n",
       "11  11  0.523541\n",
       "12  12  0.523541\n",
       "13  13  0.523539\n",
       "14  14  0.523540\n",
       "15  15  0.523535\n",
       "16  16  0.523534\n",
       "17  17  0.523534\n",
       "18  18  0.523534\n",
       "19  19  0.523534\n",
       "20  20  0.523535\n",
       "21  21  0.523535\n",
       "22  22  0.523536\n",
       "23  23  0.523536\n",
       "24  24  0.523534\n",
       "25  25  0.523535\n",
       "26  26  0.523534\n",
       "27  27  0.523534\n",
       "28  28  0.523534\n",
       "29  29  0.523535\n",
       "30  30  0.494556\n",
       "31  31  0.494556\n",
       "32  32  0.494556\n",
       "33  33  0.494556\n",
       "34  34  0.494558\n",
       "35  35  0.494557\n",
       "36  36  0.494554\n",
       "37  37  0.523534\n",
       "38  38  0.523534\n",
       "39  39  0.523534\n",
       "40  40  0.523532\n",
       "41  41  0.523535\n",
       "42  42  0.523533\n",
       "43  43  0.523535\n",
       "44  44  0.523535\n",
       "45  45  0.523533\n",
       "46  46  0.523533\n",
       "47  47  0.523532\n",
       "48  48  0.523533\n",
       "49  49  0.523533\n",
       "50  50  0.523533\n",
       "51  51  0.523533\n",
       "52  52  0.523534\n",
       "53  53  0.523534\n",
       "54  54  0.523534\n",
       "55  55  0.523534\n",
       "56  56  0.523534\n",
       "57  57  0.523534\n",
       "58  58  0.523534\n",
       "59  59  0.523535"
      ]
     },
     "execution_count": 45,
     "metadata": {},
     "output_type": "execute_result"
    }
   ],
   "source": [
    "sub.head(60)"
   ]
  },
  {
   "cell_type": "code",
   "execution_count": null,
   "id": "8737e9e0",
   "metadata": {
    "papermill": {
     "duration": 0.056312,
     "end_time": "2022-11-24T09:57:53.203548",
     "exception": false,
     "start_time": "2022-11-24T09:57:53.147236",
     "status": "completed"
    },
    "tags": []
   },
   "outputs": [],
   "source": []
  }
 ],
 "metadata": {
  "kernelspec": {
   "display_name": "Python 3",
   "language": "python",
   "name": "python3"
  },
  "language_info": {
   "codemirror_mode": {
    "name": "ipython",
    "version": 3
   },
   "file_extension": ".py",
   "mimetype": "text/x-python",
   "name": "python",
   "nbconvert_exporter": "python",
   "pygments_lexer": "ipython3",
   "version": "3.7.12"
  },
  "papermill": {
   "default_parameters": {},
   "duration": 360.923011,
   "end_time": "2022-11-24T09:57:54.073346",
   "environment_variables": {},
   "exception": null,
   "input_path": "__notebook__.ipynb",
   "output_path": "__notebook__.ipynb",
   "parameters": {},
   "start_time": "2022-11-24T09:51:53.150335",
   "version": "2.3.3"
  }
 },
 "nbformat": 4,
 "nbformat_minor": 5
}
